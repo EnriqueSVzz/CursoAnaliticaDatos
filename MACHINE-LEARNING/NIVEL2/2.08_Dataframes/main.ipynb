{
 "cells": [
  {
   "cell_type": "markdown",
   "id": "f592c55a-a79e-4edc-98fe-60196c00982c",
   "metadata": {},
   "source": [
    "# Creación y Manipulación de DataFrames"
   ]
  },
  {
   "cell_type": "markdown",
   "id": "fca83af3-539f-49da-ab54-c855cb037efd",
   "metadata": {},
   "source": [
    "### Creación de un DataFrame"
   ]
  },
  {
   "cell_type": "markdown",
   "id": "1b0f4448-0e10-44b1-8d41-58b59a388064",
   "metadata": {},
   "source": [
    "Importamos nuestro pandas"
   ]
  },
  {
   "cell_type": "code",
   "execution_count": 1,
   "id": "e900934d-312b-4bd8-bf62-bbbf58b7323d",
   "metadata": {},
   "outputs": [],
   "source": [
    "import pandas as pd"
   ]
  },
  {
   "cell_type": "markdown",
   "id": "3f0c1ddb-acbf-4794-997e-85d281b9301e",
   "metadata": {},
   "source": [
    "Imagenemos que tenemos los siguientes datos\n",
    "\n",
    "Nota:\n",
    "    \n",
    "    *Cada elemento de un data frame es una serie*"
   ]
  },
  {
   "cell_type": "code",
   "execution_count": 9,
   "id": "faf75c3e-683c-4437-b40b-ec09bbd6df23",
   "metadata": {},
   "outputs": [
    {
     "data": {
      "text/html": [
       "<div>\n",
       "<style scoped>\n",
       "    .dataframe tbody tr th:only-of-type {\n",
       "        vertical-align: middle;\n",
       "    }\n",
       "\n",
       "    .dataframe tbody tr th {\n",
       "        vertical-align: top;\n",
       "    }\n",
       "\n",
       "    .dataframe thead th {\n",
       "        text-align: right;\n",
       "    }\n",
       "</style>\n",
       "<table border=\"1\" class=\"dataframe\">\n",
       "  <thead>\n",
       "    <tr style=\"text-align: right;\">\n",
       "      <th></th>\n",
       "      <th>poblacion</th>\n",
       "      <th>porcentaje</th>\n",
       "    </tr>\n",
       "  </thead>\n",
       "  <tbody>\n",
       "    <tr>\n",
       "      <th>China</th>\n",
       "      <td>1439</td>\n",
       "      <td>18.47</td>\n",
       "    </tr>\n",
       "    <tr>\n",
       "      <th>India</th>\n",
       "      <td>1380</td>\n",
       "      <td>17.70</td>\n",
       "    </tr>\n",
       "    <tr>\n",
       "      <th>Estados Unidos</th>\n",
       "      <td>331</td>\n",
       "      <td>4.25</td>\n",
       "    </tr>\n",
       "    <tr>\n",
       "      <th>Indonesia</th>\n",
       "      <td>273</td>\n",
       "      <td>3.51</td>\n",
       "    </tr>\n",
       "    <tr>\n",
       "      <th>Paskitán</th>\n",
       "      <td>220</td>\n",
       "      <td>2.83</td>\n",
       "    </tr>\n",
       "    <tr>\n",
       "      <th>Brasil</th>\n",
       "      <td>212</td>\n",
       "      <td>2.73</td>\n",
       "    </tr>\n",
       "    <tr>\n",
       "      <th>Nigeria</th>\n",
       "      <td>206</td>\n",
       "      <td>2.64</td>\n",
       "    </tr>\n",
       "    <tr>\n",
       "      <th>Bangladesh</th>\n",
       "      <td>164</td>\n",
       "      <td>2.11</td>\n",
       "    </tr>\n",
       "    <tr>\n",
       "      <th>Rusia</th>\n",
       "      <td>145</td>\n",
       "      <td>1.87</td>\n",
       "    </tr>\n",
       "    <tr>\n",
       "      <th>México</th>\n",
       "      <td>128</td>\n",
       "      <td>1.65</td>\n",
       "    </tr>\n",
       "  </tbody>\n",
       "</table>\n",
       "</div>"
      ],
      "text/plain": [
       "                poblacion  porcentaje\n",
       "China                1439       18.47\n",
       "India                1380       17.70\n",
       "Estados Unidos        331        4.25\n",
       "Indonesia             273        3.51\n",
       "Paskitán              220        2.83\n",
       "Brasil                212        2.73\n",
       "Nigeria               206        2.64\n",
       "Bangladesh            164        2.11\n",
       "Rusia                 145        1.87\n",
       "México                128        1.65"
      ]
     },
     "execution_count": 9,
     "metadata": {},
     "output_type": "execute_result"
    }
   ],
   "source": [
    "nombre_paises = [\"China\", \"India\", \"Estados Unidos\", \"Indonesia\", \"Paskitán\", \"Brasil\",\n",
    "                \"Nigeria\", \"Bangladesh\", \"Rusia\", \"México\"]\n",
    "\n",
    "encabezado = [\"poblacion\", \"porcentaje\"]\n",
    "\n",
    "datos = [[1439, 18.47], \n",
    "         [1380 ,17.70], \n",
    "         [331, 4.25], \n",
    "         [273, 3.51], \n",
    "         [220, 2.83],\n",
    "         [212, 2.73], \n",
    "         [206, 2.64], \n",
    "         [164, 2.11], \n",
    "         [145, 1.87], \n",
    "         [128, 1.65]]\n",
    "\n",
    "# Creamos el data frame\n",
    "# esta manera solo lista los valores\n",
    "# paises = pd.DataFrame(datos)\n",
    "\n",
    "# de esta forma le pone más contexto\n",
    "paises = pd.DataFrame(datos, index=nombre_paises, columns=encabezado)\n",
    "paises\n"
   ]
  },
  {
   "cell_type": "markdown",
   "id": "f2820886-01b2-47ef-b9cc-d3ace7ac70b7",
   "metadata": {},
   "source": [
    "### Transformar un diccionario a DataFrame"
   ]
  },
  {
   "cell_type": "code",
   "execution_count": 71,
   "id": "603e8ba8-fae8-4142-a1ac-0138c0c017ed",
   "metadata": {},
   "outputs": [
    {
     "data": {
      "text/html": [
       "<div>\n",
       "<style scoped>\n",
       "    .dataframe tbody tr th:only-of-type {\n",
       "        vertical-align: middle;\n",
       "    }\n",
       "\n",
       "    .dataframe tbody tr th {\n",
       "        vertical-align: top;\n",
       "    }\n",
       "\n",
       "    .dataframe thead th {\n",
       "        text-align: right;\n",
       "    }\n",
       "</style>\n",
       "<table border=\"1\" class=\"dataframe\">\n",
       "  <thead>\n",
       "    <tr style=\"text-align: right;\">\n",
       "      <th></th>\n",
       "      <th>poblacion</th>\n",
       "      <th>porcentaje</th>\n",
       "    </tr>\n",
       "  </thead>\n",
       "  <tbody>\n",
       "    <tr>\n",
       "      <th>China</th>\n",
       "      <td>1439.0</td>\n",
       "      <td>18.47</td>\n",
       "    </tr>\n",
       "    <tr>\n",
       "      <th>India</th>\n",
       "      <td>1380.0</td>\n",
       "      <td>17.70</td>\n",
       "    </tr>\n",
       "    <tr>\n",
       "      <th>Estados Unidos</th>\n",
       "      <td>331.0</td>\n",
       "      <td>4.25</td>\n",
       "    </tr>\n",
       "    <tr>\n",
       "      <th>Indonesia</th>\n",
       "      <td>273.0</td>\n",
       "      <td>3.51</td>\n",
       "    </tr>\n",
       "    <tr>\n",
       "      <th>Paskitán</th>\n",
       "      <td>220.0</td>\n",
       "      <td>2.83</td>\n",
       "    </tr>\n",
       "    <tr>\n",
       "      <th>Brasil</th>\n",
       "      <td>212.0</td>\n",
       "      <td>2.73</td>\n",
       "    </tr>\n",
       "    <tr>\n",
       "      <th>Nigeria</th>\n",
       "      <td>206.0</td>\n",
       "      <td>2.64</td>\n",
       "    </tr>\n",
       "    <tr>\n",
       "      <th>Bangladesh</th>\n",
       "      <td>164.0</td>\n",
       "      <td>2.11</td>\n",
       "    </tr>\n",
       "    <tr>\n",
       "      <th>Rusia</th>\n",
       "      <td>145.0</td>\n",
       "      <td>1.87</td>\n",
       "    </tr>\n",
       "    <tr>\n",
       "      <th>México</th>\n",
       "      <td>128.0</td>\n",
       "      <td>1.65</td>\n",
       "    </tr>\n",
       "  </tbody>\n",
       "</table>\n",
       "</div>"
      ],
      "text/plain": [
       "                poblacion  porcentaje\n",
       "China              1439.0       18.47\n",
       "India              1380.0       17.70\n",
       "Estados Unidos      331.0        4.25\n",
       "Indonesia           273.0        3.51\n",
       "Paskitán            220.0        2.83\n",
       "Brasil              212.0        2.73\n",
       "Nigeria             206.0        2.64\n",
       "Bangladesh          164.0        2.11\n",
       "Rusia               145.0        1.87\n",
       "México              128.0        1.65"
      ]
     },
     "execution_count": 71,
     "metadata": {},
     "output_type": "execute_result"
    }
   ],
   "source": [
    "# Imaginemos que tenemos este diccionario\n",
    "\n",
    "diccionario = {\n",
    "    \"China\": [1439, 18.47],\n",
    "    \"India\": [1380, 17.70],\n",
    "    \"Estados Unidos\": [331, 4.25],\n",
    "    \"Indonesia\": [273, 3.51],\n",
    "    \"Paskitán\": [220, 2.83],\n",
    "    \"Brasil\": [212, 2.73],\n",
    "    \"Nigeria\": [206, 2.64],\n",
    "    \"Bangladesh\": [164, 2.11],\n",
    "    \"Rusia\": [145, 1.87],\n",
    "    \"México\": [128, 1.65]\n",
    "}\n",
    "\n",
    "# Esto hará que este transpuesto, tenemos que establecer los indices\n",
    "# ya que por default empezarán con 0 o 1.\n",
    "paises = pd.DataFrame(diccionario, index=encabezado)\n",
    "\n",
    "# transponer el dataframe\n",
    "paises = paises.transpose()\n",
    "paises"
   ]
  },
  {
   "cell_type": "markdown",
   "id": "847d861d-b9f1-48a5-8410-5193f8cbb801",
   "metadata": {},
   "source": [
    "### Métodos de un DataFrame"
   ]
  },
  {
   "cell_type": "code",
   "execution_count": 15,
   "id": "873cdb86-b7ae-45bb-86aa-ee3a2db55871",
   "metadata": {},
   "outputs": [
    {
     "data": {
      "text/plain": [
       "poblacion     float64\n",
       "porcentaje    float64\n",
       "dtype: object"
      ]
     },
     "execution_count": 15,
     "metadata": {},
     "output_type": "execute_result"
    }
   ],
   "source": [
    "# Imprimir el tipo de datos de nuestro dataFrame\n",
    "paises.dtypes"
   ]
  },
  {
   "cell_type": "code",
   "execution_count": 16,
   "id": "2d28fd8c-d53d-4dc8-831c-4757483a5e04",
   "metadata": {},
   "outputs": [
    {
     "data": {
      "text/plain": [
       "(array([[1439.  ,   18.47],\n",
       "        [1380.  ,   17.7 ],\n",
       "        [ 331.  ,    4.25],\n",
       "        [ 273.  ,    3.51],\n",
       "        [ 220.  ,    2.83],\n",
       "        [ 212.  ,    2.73],\n",
       "        [ 206.  ,    2.64],\n",
       "        [ 164.  ,    2.11],\n",
       "        [ 145.  ,    1.87],\n",
       "        [ 128.  ,    1.65]]),\n",
       " 20)"
      ]
     },
     "execution_count": 16,
     "metadata": {},
     "output_type": "execute_result"
    }
   ],
   "source": [
    "paises.values, paises.size"
   ]
  },
  {
   "cell_type": "code",
   "execution_count": 17,
   "id": "c2f68fe8-0fc9-4ce0-b5bf-a53d92c4897f",
   "metadata": {},
   "outputs": [
    {
     "data": {
      "text/plain": [
       "(Index(['China', 'India', 'Estados Unidos', 'Indonesia', 'Paskitán', 'Brasil',\n",
       "        'Nigeria', 'Bangladesh', 'Rusia', 'México'],\n",
       "       dtype='object'),\n",
       " Index(['poblacion', 'porcentaje'], dtype='object'))"
      ]
     },
     "execution_count": 17,
     "metadata": {},
     "output_type": "execute_result"
    }
   ],
   "source": [
    "paises.index, paises.columns"
   ]
  },
  {
   "cell_type": "markdown",
   "id": "06b05bb2-c79b-47e6-bb5d-c2792b89f54a",
   "metadata": {},
   "source": [
    "### Acceder a un elemento del DataFrame"
   ]
  },
  {
   "cell_type": "code",
   "execution_count": 18,
   "id": "f76e9480-b7ac-4745-99d2-4ca4f1b315a5",
   "metadata": {},
   "outputs": [
    {
     "data": {
      "text/plain": [
       "China             1439.0\n",
       "India             1380.0\n",
       "Estados Unidos     331.0\n",
       "Indonesia          273.0\n",
       "Paskitán           220.0\n",
       "Brasil             212.0\n",
       "Nigeria            206.0\n",
       "Bangladesh         164.0\n",
       "Rusia              145.0\n",
       "México             128.0\n",
       "Name: poblacion, dtype: float64"
      ]
     },
     "execution_count": 18,
     "metadata": {},
     "output_type": "execute_result"
    }
   ],
   "source": [
    "# Podemos acceder a todos los valores de una columna\n",
    "# recordemos que también se imprimira su index\n",
    "paises.poblacion"
   ]
  },
  {
   "cell_type": "code",
   "execution_count": 19,
   "id": "d8ebff2b-b279-4a4f-b470-861bf7806627",
   "metadata": {},
   "outputs": [
    {
     "data": {
      "text/plain": [
       "China             1439.0\n",
       "India             1380.0\n",
       "Estados Unidos     331.0\n",
       "Indonesia          273.0\n",
       "Paskitán           220.0\n",
       "Brasil             212.0\n",
       "Nigeria            206.0\n",
       "Bangladesh         164.0\n",
       "Rusia              145.0\n",
       "México             128.0\n",
       "Name: poblacion, dtype: float64"
      ]
     },
     "execution_count": 19,
     "metadata": {},
     "output_type": "execute_result"
    }
   ],
   "source": [
    "# También esto funciona\n",
    "paises[\"poblacion\"]"
   ]
  },
  {
   "cell_type": "code",
   "execution_count": 22,
   "id": "c1cde6bb-2883-4426-b30a-161d498603c6",
   "metadata": {},
   "outputs": [
    {
     "data": {
      "text/html": [
       "<div>\n",
       "<style scoped>\n",
       "    .dataframe tbody tr th:only-of-type {\n",
       "        vertical-align: middle;\n",
       "    }\n",
       "\n",
       "    .dataframe tbody tr th {\n",
       "        vertical-align: top;\n",
       "    }\n",
       "\n",
       "    .dataframe thead th {\n",
       "        text-align: right;\n",
       "    }\n",
       "</style>\n",
       "<table border=\"1\" class=\"dataframe\">\n",
       "  <thead>\n",
       "    <tr style=\"text-align: right;\">\n",
       "      <th></th>\n",
       "      <th>poblacion</th>\n",
       "      <th>porcentaje</th>\n",
       "    </tr>\n",
       "  </thead>\n",
       "  <tbody>\n",
       "    <tr>\n",
       "      <th>China</th>\n",
       "      <td>1439.0</td>\n",
       "      <td>18.47</td>\n",
       "    </tr>\n",
       "    <tr>\n",
       "      <th>India</th>\n",
       "      <td>1380.0</td>\n",
       "      <td>17.70</td>\n",
       "    </tr>\n",
       "    <tr>\n",
       "      <th>Estados Unidos</th>\n",
       "      <td>331.0</td>\n",
       "      <td>4.25</td>\n",
       "    </tr>\n",
       "    <tr>\n",
       "      <th>Indonesia</th>\n",
       "      <td>273.0</td>\n",
       "      <td>3.51</td>\n",
       "    </tr>\n",
       "    <tr>\n",
       "      <th>Paskitán</th>\n",
       "      <td>220.0</td>\n",
       "      <td>2.83</td>\n",
       "    </tr>\n",
       "    <tr>\n",
       "      <th>Brasil</th>\n",
       "      <td>212.0</td>\n",
       "      <td>2.73</td>\n",
       "    </tr>\n",
       "    <tr>\n",
       "      <th>Nigeria</th>\n",
       "      <td>206.0</td>\n",
       "      <td>2.64</td>\n",
       "    </tr>\n",
       "    <tr>\n",
       "      <th>Bangladesh</th>\n",
       "      <td>164.0</td>\n",
       "      <td>2.11</td>\n",
       "    </tr>\n",
       "    <tr>\n",
       "      <th>Rusia</th>\n",
       "      <td>145.0</td>\n",
       "      <td>1.87</td>\n",
       "    </tr>\n",
       "    <tr>\n",
       "      <th>México</th>\n",
       "      <td>128.0</td>\n",
       "      <td>1.65</td>\n",
       "    </tr>\n",
       "  </tbody>\n",
       "</table>\n",
       "</div>"
      ],
      "text/plain": [
       "                poblacion  porcentaje\n",
       "China              1439.0       18.47\n",
       "India              1380.0       17.70\n",
       "Estados Unidos      331.0        4.25\n",
       "Indonesia           273.0        3.51\n",
       "Paskitán            220.0        2.83\n",
       "Brasil              212.0        2.73\n",
       "Nigeria             206.0        2.64\n",
       "Bangladesh          164.0        2.11\n",
       "Rusia               145.0        1.87\n",
       "México              128.0        1.65"
      ]
     },
     "execution_count": 22,
     "metadata": {},
     "output_type": "execute_result"
    }
   ],
   "source": [
    "# También podríamos imprimer una serie de columnas que nosotros queramos\n",
    "paises[[\"poblacion\", \"porcentaje\"]]"
   ]
  },
  {
   "cell_type": "markdown",
   "id": "8f3a24bf-efb4-4e1d-a490-e052f63834f4",
   "metadata": {},
   "source": [
    "***NOTA***\n",
    "* iloc signicia i de entero y loc para la locación\n",
    "* También podieramos usar paises.loc[\"China\"]"
   ]
  },
  {
   "cell_type": "code",
   "execution_count": 35,
   "id": "946f6130-4986-4492-8725-10b07a1c6d27",
   "metadata": {},
   "outputs": [
    {
     "data": {
      "text/plain": [
       "China             1439.0\n",
       "India             1380.0\n",
       "Estados Unidos     331.0\n",
       "Name: poblacion, dtype: float64"
      ]
     },
     "execution_count": 35,
     "metadata": {},
     "output_type": "execute_result"
    }
   ],
   "source": [
    "# Así accedemos a un elmento espefico\n",
    "#paises[\"poblacion\"][1]\n",
    "\n",
    "# por nuevas versiones de pandas, debemos usar para que no marque error\n",
    "#paises[\"poblacion\"].iloc[1] \n",
    "#paises.poblacion[0] # también marca error\n",
    "#paises.poblacion.iloc[0] # así ya no\n",
    "paises[\"poblacion\"][0:3]"
   ]
  },
  {
   "cell_type": "markdown",
   "id": "c8776c53-b106-45b2-b8f7-d0491f0e6d4a",
   "metadata": {},
   "source": [
    "### Métodos básicos comunes de DataFrames"
   ]
  },
  {
   "cell_type": "code",
   "execution_count": 36,
   "id": "43812cd8-2acf-469b-8977-b383993a3df6",
   "metadata": {},
   "outputs": [],
   "source": [
    "# Así cambiamos el tipo de dato de una columna\n",
    "paises[\"poblacion\"] = paises[\"poblacion\"].astype(\"int\")"
   ]
  },
  {
   "cell_type": "code",
   "execution_count": 38,
   "id": "b9ab47d8-7597-4339-9efa-62162bf82b82",
   "metadata": {},
   "outputs": [
    {
     "name": "stdout",
     "output_type": "stream",
     "text": [
      "<class 'pandas.core.frame.DataFrame'>\n",
      "Index: 10 entries, China to México\n",
      "Data columns (total 2 columns):\n",
      " #   Column      Non-Null Count  Dtype  \n",
      "---  ------      --------------  -----  \n",
      " 0   poblacion   10 non-null     int32  \n",
      " 1   porcentaje  10 non-null     float64\n",
      "dtypes: float64(1), int32(1)\n",
      "memory usage: 500.0+ bytes\n"
     ]
    }
   ],
   "source": [
    "# Así mostramos la descripción de la tabla\n",
    "paises.info()\n",
    "# podemos ver como ya cambió el tipo de dato a int32"
   ]
  },
  {
   "cell_type": "code",
   "execution_count": 41,
   "id": "73e85702-43fb-473c-84d7-0e1fe17f477e",
   "metadata": {},
   "outputs": [
    {
     "data": {
      "text/plain": [
       "(                poblacion  porcentaje\n",
       " China                1439       18.47\n",
       " India                1380       17.70\n",
       " Estados Unidos        331        4.25,\n",
       "         poblacion  porcentaje\n",
       " Rusia         145        1.87\n",
       " México        128        1.65)"
      ]
     },
     "execution_count": 41,
     "metadata": {},
     "output_type": "execute_result"
    }
   ],
   "source": [
    "# traernos los primeros 5 y los ultimos 5 por default\n",
    "# aunque también podemos especificar\n",
    "paises.head(3), paises.tail(2)"
   ]
  },
  {
   "cell_type": "code",
   "execution_count": 43,
   "id": "974642dc-d7c5-4354-99ef-d858286f681d",
   "metadata": {},
   "outputs": [
    {
     "data": {
      "text/html": [
       "<div>\n",
       "<style scoped>\n",
       "    .dataframe tbody tr th:only-of-type {\n",
       "        vertical-align: middle;\n",
       "    }\n",
       "\n",
       "    .dataframe tbody tr th {\n",
       "        vertical-align: top;\n",
       "    }\n",
       "\n",
       "    .dataframe thead th {\n",
       "        text-align: right;\n",
       "    }\n",
       "</style>\n",
       "<table border=\"1\" class=\"dataframe\">\n",
       "  <thead>\n",
       "    <tr style=\"text-align: right;\">\n",
       "      <th></th>\n",
       "      <th>poblacion</th>\n",
       "      <th>porcentaje</th>\n",
       "    </tr>\n",
       "  </thead>\n",
       "  <tbody>\n",
       "    <tr>\n",
       "      <th>China</th>\n",
       "      <td>1439</td>\n",
       "      <td>18.47</td>\n",
       "    </tr>\n",
       "    <tr>\n",
       "      <th>India</th>\n",
       "      <td>1380</td>\n",
       "      <td>17.70</td>\n",
       "    </tr>\n",
       "    <tr>\n",
       "      <th>Estados Unidos</th>\n",
       "      <td>331</td>\n",
       "      <td>4.25</td>\n",
       "    </tr>\n",
       "    <tr>\n",
       "      <th>Indonesia</th>\n",
       "      <td>273</td>\n",
       "      <td>3.51</td>\n",
       "    </tr>\n",
       "    <tr>\n",
       "      <th>Paskitán</th>\n",
       "      <td>220</td>\n",
       "      <td>2.83</td>\n",
       "    </tr>\n",
       "    <tr>\n",
       "      <th>Brasil</th>\n",
       "      <td>212</td>\n",
       "      <td>2.73</td>\n",
       "    </tr>\n",
       "    <tr>\n",
       "      <th>Nigeria</th>\n",
       "      <td>206</td>\n",
       "      <td>2.64</td>\n",
       "    </tr>\n",
       "    <tr>\n",
       "      <th>Bangladesh</th>\n",
       "      <td>164</td>\n",
       "      <td>2.11</td>\n",
       "    </tr>\n",
       "    <tr>\n",
       "      <th>Rusia</th>\n",
       "      <td>145</td>\n",
       "      <td>1.87</td>\n",
       "    </tr>\n",
       "    <tr>\n",
       "      <th>México</th>\n",
       "      <td>128</td>\n",
       "      <td>1.65</td>\n",
       "    </tr>\n",
       "  </tbody>\n",
       "</table>\n",
       "</div>"
      ],
      "text/plain": [
       "                poblacion  porcentaje\n",
       "China                1439       18.47\n",
       "India                1380       17.70\n",
       "Estados Unidos        331        4.25\n",
       "Indonesia             273        3.51\n",
       "Paskitán              220        2.83\n",
       "Brasil                212        2.73\n",
       "Nigeria               206        2.64\n",
       "Bangladesh            164        2.11\n",
       "Rusia                 145        1.87\n",
       "México                128        1.65"
      ]
     },
     "execution_count": 43,
     "metadata": {},
     "output_type": "execute_result"
    }
   ],
   "source": [
    "# Podemos ordenar, pero aquí tenemos que espeficar\n",
    "# creo que toma de menor a mayor por default\n",
    "paises.sort_values(by=[\"poblacion\"], ascending=False)"
   ]
  },
  {
   "cell_type": "code",
   "execution_count": 44,
   "id": "dbe660f4-7b92-457f-9f87-731a926cc5b6",
   "metadata": {},
   "outputs": [
    {
     "data": {
      "text/html": [
       "<div>\n",
       "<style scoped>\n",
       "    .dataframe tbody tr th:only-of-type {\n",
       "        vertical-align: middle;\n",
       "    }\n",
       "\n",
       "    .dataframe tbody tr th {\n",
       "        vertical-align: top;\n",
       "    }\n",
       "\n",
       "    .dataframe thead th {\n",
       "        text-align: right;\n",
       "    }\n",
       "</style>\n",
       "<table border=\"1\" class=\"dataframe\">\n",
       "  <thead>\n",
       "    <tr style=\"text-align: right;\">\n",
       "      <th></th>\n",
       "      <th>poblacion</th>\n",
       "      <th>porcentaje</th>\n",
       "    </tr>\n",
       "  </thead>\n",
       "  <tbody>\n",
       "    <tr>\n",
       "      <th>Bangladesh</th>\n",
       "      <td>164</td>\n",
       "      <td>2.11</td>\n",
       "    </tr>\n",
       "    <tr>\n",
       "      <th>Brasil</th>\n",
       "      <td>212</td>\n",
       "      <td>2.73</td>\n",
       "    </tr>\n",
       "    <tr>\n",
       "      <th>China</th>\n",
       "      <td>1439</td>\n",
       "      <td>18.47</td>\n",
       "    </tr>\n",
       "    <tr>\n",
       "      <th>Estados Unidos</th>\n",
       "      <td>331</td>\n",
       "      <td>4.25</td>\n",
       "    </tr>\n",
       "    <tr>\n",
       "      <th>India</th>\n",
       "      <td>1380</td>\n",
       "      <td>17.70</td>\n",
       "    </tr>\n",
       "    <tr>\n",
       "      <th>Indonesia</th>\n",
       "      <td>273</td>\n",
       "      <td>3.51</td>\n",
       "    </tr>\n",
       "    <tr>\n",
       "      <th>México</th>\n",
       "      <td>128</td>\n",
       "      <td>1.65</td>\n",
       "    </tr>\n",
       "    <tr>\n",
       "      <th>Nigeria</th>\n",
       "      <td>206</td>\n",
       "      <td>2.64</td>\n",
       "    </tr>\n",
       "    <tr>\n",
       "      <th>Paskitán</th>\n",
       "      <td>220</td>\n",
       "      <td>2.83</td>\n",
       "    </tr>\n",
       "    <tr>\n",
       "      <th>Rusia</th>\n",
       "      <td>145</td>\n",
       "      <td>1.87</td>\n",
       "    </tr>\n",
       "  </tbody>\n",
       "</table>\n",
       "</div>"
      ],
      "text/plain": [
       "                poblacion  porcentaje\n",
       "Bangladesh            164        2.11\n",
       "Brasil                212        2.73\n",
       "China                1439       18.47\n",
       "Estados Unidos        331        4.25\n",
       "India                1380       17.70\n",
       "Indonesia             273        3.51\n",
       "México                128        1.65\n",
       "Nigeria               206        2.64\n",
       "Paskitán              220        2.83\n",
       "Rusia                 145        1.87"
      ]
     },
     "execution_count": 44,
     "metadata": {},
     "output_type": "execute_result"
    }
   ],
   "source": [
    "# Si no nos interesara esto, podriamos ordenar por nuestro index\n",
    "# es este caso los ordenara por orden alfabetico\n",
    "paises.sort_index()"
   ]
  },
  {
   "cell_type": "markdown",
   "id": "8571688d-daba-4f9b-9a1b-0877a070e7be",
   "metadata": {},
   "source": [
    "### Agregar y borrar Renglones y Columnas"
   ]
  },
  {
   "cell_type": "code",
   "execution_count": 59,
   "id": "e1da0618-ff3d-475b-9070-6a2ac164ac10",
   "metadata": {},
   "outputs": [
    {
     "data": {
      "text/html": [
       "<div>\n",
       "<style scoped>\n",
       "    .dataframe tbody tr th:only-of-type {\n",
       "        vertical-align: middle;\n",
       "    }\n",
       "\n",
       "    .dataframe tbody tr th {\n",
       "        vertical-align: top;\n",
       "    }\n",
       "\n",
       "    .dataframe thead th {\n",
       "        text-align: right;\n",
       "    }\n",
       "</style>\n",
       "<table border=\"1\" class=\"dataframe\">\n",
       "  <thead>\n",
       "    <tr style=\"text-align: right;\">\n",
       "      <th></th>\n",
       "      <th>poblacion</th>\n",
       "      <th>porcentaje</th>\n",
       "      <th>tasa_fertalidad</th>\n",
       "    </tr>\n",
       "  </thead>\n",
       "  <tbody>\n",
       "    <tr>\n",
       "      <th>China</th>\n",
       "      <td>1439</td>\n",
       "      <td>18.47</td>\n",
       "      <td>1.7</td>\n",
       "    </tr>\n",
       "    <tr>\n",
       "      <th>India</th>\n",
       "      <td>1380</td>\n",
       "      <td>17.70</td>\n",
       "      <td>2.2</td>\n",
       "    </tr>\n",
       "    <tr>\n",
       "      <th>Estados Unidos</th>\n",
       "      <td>331</td>\n",
       "      <td>4.25</td>\n",
       "      <td>1.8</td>\n",
       "    </tr>\n",
       "    <tr>\n",
       "      <th>Indonesia</th>\n",
       "      <td>273</td>\n",
       "      <td>3.51</td>\n",
       "      <td>2.3</td>\n",
       "    </tr>\n",
       "    <tr>\n",
       "      <th>Paskitán</th>\n",
       "      <td>220</td>\n",
       "      <td>2.83</td>\n",
       "      <td>3.6</td>\n",
       "    </tr>\n",
       "    <tr>\n",
       "      <th>Brasil</th>\n",
       "      <td>212</td>\n",
       "      <td>2.73</td>\n",
       "      <td>1.7</td>\n",
       "    </tr>\n",
       "    <tr>\n",
       "      <th>Nigeria</th>\n",
       "      <td>206</td>\n",
       "      <td>2.64</td>\n",
       "      <td>5.4</td>\n",
       "    </tr>\n",
       "    <tr>\n",
       "      <th>Bangladesh</th>\n",
       "      <td>164</td>\n",
       "      <td>2.11</td>\n",
       "      <td>2.1</td>\n",
       "    </tr>\n",
       "    <tr>\n",
       "      <th>Rusia</th>\n",
       "      <td>145</td>\n",
       "      <td>1.87</td>\n",
       "      <td>1.8</td>\n",
       "    </tr>\n",
       "    <tr>\n",
       "      <th>México</th>\n",
       "      <td>128</td>\n",
       "      <td>1.65</td>\n",
       "      <td>2.1</td>\n",
       "    </tr>\n",
       "  </tbody>\n",
       "</table>\n",
       "</div>"
      ],
      "text/plain": [
       "                poblacion  porcentaje  tasa_fertalidad\n",
       "China                1439       18.47              1.7\n",
       "India                1380       17.70              2.2\n",
       "Estados Unidos        331        4.25              1.8\n",
       "Indonesia             273        3.51              2.3\n",
       "Paskitán              220        2.83              3.6\n",
       "Brasil                212        2.73              1.7\n",
       "Nigeria               206        2.64              5.4\n",
       "Bangladesh            164        2.11              2.1\n",
       "Rusia                 145        1.87              1.8\n",
       "México                128        1.65              2.1"
      ]
     },
     "execution_count": 59,
     "metadata": {},
     "output_type": "execute_result"
    }
   ],
   "source": [
    "# tasa defertilidad por pais\n",
    "tasa_fertalidad = [1.7, 2.2, 1.8, 2.3, 3.6, 1.7, 5.4, 2.1, 1.8, 2.1]\n",
    "\n",
    "# agregariamos estos valores como si se tratara de un diccionario\n",
    "paises[\"tasa_fertalidad\"] = tasa_fertalidad\n",
    "paises"
   ]
  },
  {
   "cell_type": "code",
   "execution_count": 50,
   "id": "f073b266-b159-4010-80dc-ae6373add315",
   "metadata": {},
   "outputs": [
    {
     "data": {
      "text/plain": [
       "China             1.7\n",
       "India             2.2\n",
       "Estados Unidos    1.8\n",
       "Indonesia         2.3\n",
       "Paskitán          3.6\n",
       "Brasil            1.7\n",
       "Nigeria           5.4\n",
       "Bangladesh        2.1\n",
       "Rusia             1.8\n",
       "México            2.1\n",
       "Name: tasa_fertalidad, dtype: float64"
      ]
     },
     "execution_count": 50,
     "metadata": {},
     "output_type": "execute_result"
    }
   ],
   "source": [
    "# Así podemos eliminar una columna, y te muestra la columna que borro\n",
    "paises.pop(\"tasa_fertalidad\")"
   ]
  },
  {
   "cell_type": "code",
   "execution_count": 55,
   "id": "797005e3-1a83-4a6e-8d2e-99d277ef9bd6",
   "metadata": {},
   "outputs": [],
   "source": [
    "# hace un borrado pero no muestra lo que borro como el anterior\n",
    "del paises[\"tasa_fertalidad\"]"
   ]
  },
  {
   "cell_type": "code",
   "execution_count": 70,
   "id": "c42b5415-2939-46af-b2d2-9feef70e48bd",
   "metadata": {},
   "outputs": [
    {
     "data": {
      "text/html": [
       "<div>\n",
       "<style scoped>\n",
       "    .dataframe tbody tr th:only-of-type {\n",
       "        vertical-align: middle;\n",
       "    }\n",
       "\n",
       "    .dataframe tbody tr th {\n",
       "        vertical-align: top;\n",
       "    }\n",
       "\n",
       "    .dataframe thead th {\n",
       "        text-align: right;\n",
       "    }\n",
       "</style>\n",
       "<table border=\"1\" class=\"dataframe\">\n",
       "  <thead>\n",
       "    <tr style=\"text-align: right;\">\n",
       "      <th></th>\n",
       "      <th>poblacion</th>\n",
       "      <th>porcentaje</th>\n",
       "    </tr>\n",
       "  </thead>\n",
       "  <tbody>\n",
       "    <tr>\n",
       "      <th>China</th>\n",
       "      <td>1439.0</td>\n",
       "      <td>18.47</td>\n",
       "    </tr>\n",
       "    <tr>\n",
       "      <th>India</th>\n",
       "      <td>1380.0</td>\n",
       "      <td>17.70</td>\n",
       "    </tr>\n",
       "    <tr>\n",
       "      <th>Estados Unidos</th>\n",
       "      <td>331.0</td>\n",
       "      <td>4.25</td>\n",
       "    </tr>\n",
       "    <tr>\n",
       "      <th>Indonesia</th>\n",
       "      <td>273.0</td>\n",
       "      <td>3.51</td>\n",
       "    </tr>\n",
       "    <tr>\n",
       "      <th>Paskitán</th>\n",
       "      <td>220.0</td>\n",
       "      <td>2.83</td>\n",
       "    </tr>\n",
       "    <tr>\n",
       "      <th>Brasil</th>\n",
       "      <td>212.0</td>\n",
       "      <td>2.73</td>\n",
       "    </tr>\n",
       "    <tr>\n",
       "      <th>Nigeria</th>\n",
       "      <td>206.0</td>\n",
       "      <td>2.64</td>\n",
       "    </tr>\n",
       "    <tr>\n",
       "      <th>Rusia</th>\n",
       "      <td>145.0</td>\n",
       "      <td>1.87</td>\n",
       "    </tr>\n",
       "    <tr>\n",
       "      <th>México</th>\n",
       "      <td>128.0</td>\n",
       "      <td>1.65</td>\n",
       "    </tr>\n",
       "  </tbody>\n",
       "</table>\n",
       "</div>"
      ],
      "text/plain": [
       "                poblacion  porcentaje\n",
       "China              1439.0       18.47\n",
       "India              1380.0       17.70\n",
       "Estados Unidos      331.0        4.25\n",
       "Indonesia           273.0        3.51\n",
       "Paskitán            220.0        2.83\n",
       "Brasil              212.0        2.73\n",
       "Nigeria             206.0        2.64\n",
       "Rusia               145.0        1.87\n",
       "México              128.0        1.65"
      ]
     },
     "execution_count": 70,
     "metadata": {},
     "output_type": "execute_result"
    }
   ],
   "source": [
    "paises"
   ]
  },
  {
   "cell_type": "code",
   "execution_count": 61,
   "id": "8591ac07-7904-49d8-acd3-a478070fc205",
   "metadata": {},
   "outputs": [],
   "source": [
    "# por ultimo, este borra como tazas y columnas\n",
    "# axis 1 es una columna, axis = 0 es un renglon\n",
    "# por si solo, no la modifica, tenemos que activar que la modifica\n",
    "paises.drop(\"tasa_fertalidad\", axis = 1, inplace=True)"
   ]
  },
  {
   "cell_type": "code",
   "execution_count": 68,
   "id": "c6500d9a-0e48-4646-a485-f3a1b06febc1",
   "metadata": {},
   "outputs": [
    {
     "data": {
      "text/html": [
       "<div>\n",
       "<style scoped>\n",
       "    .dataframe tbody tr th:only-of-type {\n",
       "        vertical-align: middle;\n",
       "    }\n",
       "\n",
       "    .dataframe tbody tr th {\n",
       "        vertical-align: top;\n",
       "    }\n",
       "\n",
       "    .dataframe thead th {\n",
       "        text-align: right;\n",
       "    }\n",
       "</style>\n",
       "<table border=\"1\" class=\"dataframe\">\n",
       "  <thead>\n",
       "    <tr style=\"text-align: right;\">\n",
       "      <th></th>\n",
       "      <th>poblacion</th>\n",
       "      <th>porcentaje</th>\n",
       "    </tr>\n",
       "  </thead>\n",
       "  <tbody>\n",
       "    <tr>\n",
       "      <th>China</th>\n",
       "      <td>1439.0</td>\n",
       "      <td>18.47</td>\n",
       "    </tr>\n",
       "    <tr>\n",
       "      <th>India</th>\n",
       "      <td>1380.0</td>\n",
       "      <td>17.70</td>\n",
       "    </tr>\n",
       "    <tr>\n",
       "      <th>Estados Unidos</th>\n",
       "      <td>331.0</td>\n",
       "      <td>4.25</td>\n",
       "    </tr>\n",
       "    <tr>\n",
       "      <th>Indonesia</th>\n",
       "      <td>273.0</td>\n",
       "      <td>3.51</td>\n",
       "    </tr>\n",
       "    <tr>\n",
       "      <th>Paskitán</th>\n",
       "      <td>220.0</td>\n",
       "      <td>2.83</td>\n",
       "    </tr>\n",
       "    <tr>\n",
       "      <th>Brasil</th>\n",
       "      <td>212.0</td>\n",
       "      <td>2.73</td>\n",
       "    </tr>\n",
       "    <tr>\n",
       "      <th>Nigeria</th>\n",
       "      <td>206.0</td>\n",
       "      <td>2.64</td>\n",
       "    </tr>\n",
       "    <tr>\n",
       "      <th>Bangladesh</th>\n",
       "      <td>164.0</td>\n",
       "      <td>2.11</td>\n",
       "    </tr>\n",
       "    <tr>\n",
       "      <th>Rusia</th>\n",
       "      <td>145.0</td>\n",
       "      <td>1.87</td>\n",
       "    </tr>\n",
       "    <tr>\n",
       "      <th>México</th>\n",
       "      <td>128.0</td>\n",
       "      <td>1.65</td>\n",
       "    </tr>\n",
       "    <tr>\n",
       "      <th>Japón</th>\n",
       "      <td>126.0</td>\n",
       "      <td>1.62</td>\n",
       "    </tr>\n",
       "    <tr>\n",
       "      <th>Japón</th>\n",
       "      <td>126.0</td>\n",
       "      <td>1.62</td>\n",
       "    </tr>\n",
       "  </tbody>\n",
       "</table>\n",
       "</div>"
      ],
      "text/plain": [
       "                poblacion  porcentaje\n",
       "China              1439.0       18.47\n",
       "India              1380.0       17.70\n",
       "Estados Unidos      331.0        4.25\n",
       "Indonesia           273.0        3.51\n",
       "Paskitán            220.0        2.83\n",
       "Brasil              212.0        2.73\n",
       "Nigeria             206.0        2.64\n",
       "Bangladesh          164.0        2.11\n",
       "Rusia               145.0        1.87\n",
       "México              128.0        1.65\n",
       "Japón               126.0        1.62\n",
       "Japón               126.0        1.62"
      ]
     },
     "execution_count": 68,
     "metadata": {},
     "output_type": "execute_result"
    }
   ],
   "source": [
    "# agregar un valor\n",
    "# como los data frames están hechos de series, tenemos que dar de alta una\n",
    "renglon = pd.Series(name=\"Japón\", data=[126,1.62], index=[\"poblacion\", \"porcentaje\"])\n",
    "\n",
    "#paises.append(renglon) # esto ya esta desactualizado\n",
    "\n",
    "# aquí convertimos la serie a dataframe de una fila, y lo concatemos con paises\n",
    "paises = pd.concat([paises, renglon.to_frame().T])\n",
    "paises"
   ]
  },
  {
   "cell_type": "code",
   "execution_count": 69,
   "id": "7834fcc2-97d9-49a5-b54d-0db00bcde65b",
   "metadata": {},
   "outputs": [],
   "source": [
    "# Ahora hagamos que borre varios datos por fila\n",
    "paises.drop([\"Japón\", \"Bangladesh\"], axis = 0, inplace=True)"
   ]
  },
  {
   "cell_type": "markdown",
   "id": "6c650cdd-fc1b-484e-b611-5e13facd791a",
   "metadata": {},
   "source": [
    "### Funcionesde Estadísitica y de agregación básica"
   ]
  },
  {
   "cell_type": "code",
   "execution_count": 73,
   "id": "572c49b3-5458-4fef-a37a-1d43b4e5ba88",
   "metadata": {},
   "outputs": [
    {
     "data": {
      "text/plain": [
       "(         poblacion  porcentaje\n",
       " count    10.000000   10.000000\n",
       " mean    449.800000    5.776000\n",
       " std     509.476376    6.534478\n",
       " min     128.000000    1.650000\n",
       " 25%     174.500000    2.242500\n",
       " 50%     216.000000    2.780000\n",
       " 75%     316.500000    4.065000\n",
       " max    1439.000000   18.470000,\n",
       " poblacion     128.00\n",
       " porcentaje      1.65\n",
       " dtype: float64)"
      ]
     },
     "execution_count": 73,
     "metadata": {},
     "output_type": "execute_result"
    }
   ],
   "source": [
    "# igual que las series podemos pedir un pequeño resumen\n",
    "paises.describe(), paises.min()"
   ]
  },
  {
   "cell_type": "code",
   "execution_count": 75,
   "id": "779c2c00-5129-4123-980f-3c2750c98c13",
   "metadata": {},
   "outputs": [
    {
     "data": {
      "text/html": [
       "<div>\n",
       "<style scoped>\n",
       "    .dataframe tbody tr th:only-of-type {\n",
       "        vertical-align: middle;\n",
       "    }\n",
       "\n",
       "    .dataframe tbody tr th {\n",
       "        vertical-align: top;\n",
       "    }\n",
       "\n",
       "    .dataframe thead th {\n",
       "        text-align: right;\n",
       "    }\n",
       "</style>\n",
       "<table border=\"1\" class=\"dataframe\">\n",
       "  <thead>\n",
       "    <tr style=\"text-align: right;\">\n",
       "      <th></th>\n",
       "      <th>poblacion</th>\n",
       "      <th>porcentaje</th>\n",
       "    </tr>\n",
       "  </thead>\n",
       "  <tbody>\n",
       "    <tr>\n",
       "      <th>China</th>\n",
       "      <td>1439.0</td>\n",
       "      <td>18.47</td>\n",
       "    </tr>\n",
       "    <tr>\n",
       "      <th>India</th>\n",
       "      <td>2819.0</td>\n",
       "      <td>36.17</td>\n",
       "    </tr>\n",
       "    <tr>\n",
       "      <th>Estados Unidos</th>\n",
       "      <td>3150.0</td>\n",
       "      <td>40.42</td>\n",
       "    </tr>\n",
       "    <tr>\n",
       "      <th>Indonesia</th>\n",
       "      <td>3423.0</td>\n",
       "      <td>43.93</td>\n",
       "    </tr>\n",
       "    <tr>\n",
       "      <th>Paskitán</th>\n",
       "      <td>3643.0</td>\n",
       "      <td>46.76</td>\n",
       "    </tr>\n",
       "    <tr>\n",
       "      <th>Brasil</th>\n",
       "      <td>3855.0</td>\n",
       "      <td>49.49</td>\n",
       "    </tr>\n",
       "    <tr>\n",
       "      <th>Nigeria</th>\n",
       "      <td>4061.0</td>\n",
       "      <td>52.13</td>\n",
       "    </tr>\n",
       "    <tr>\n",
       "      <th>Bangladesh</th>\n",
       "      <td>4225.0</td>\n",
       "      <td>54.24</td>\n",
       "    </tr>\n",
       "    <tr>\n",
       "      <th>Rusia</th>\n",
       "      <td>4370.0</td>\n",
       "      <td>56.11</td>\n",
       "    </tr>\n",
       "    <tr>\n",
       "      <th>México</th>\n",
       "      <td>4498.0</td>\n",
       "      <td>57.76</td>\n",
       "    </tr>\n",
       "  </tbody>\n",
       "</table>\n",
       "</div>"
      ],
      "text/plain": [
       "                poblacion  porcentaje\n",
       "China              1439.0       18.47\n",
       "India              2819.0       36.17\n",
       "Estados Unidos     3150.0       40.42\n",
       "Indonesia          3423.0       43.93\n",
       "Paskitán           3643.0       46.76\n",
       "Brasil             3855.0       49.49\n",
       "Nigeria            4061.0       52.13\n",
       "Bangladesh         4225.0       54.24\n",
       "Rusia              4370.0       56.11\n",
       "México             4498.0       57.76"
      ]
     },
     "execution_count": 75,
     "metadata": {},
     "output_type": "execute_result"
    }
   ],
   "source": [
    "# podemos pedir acumulativos\n",
    "# se va sumando el porcentaje y la poblacion\n",
    "paises.cumsum()"
   ]
  }
 ],
 "metadata": {
  "kernelspec": {
   "display_name": "Python 3 (ipykernel)",
   "language": "python",
   "name": "python3"
  },
  "language_info": {
   "codemirror_mode": {
    "name": "ipython",
    "version": 3
   },
   "file_extension": ".py",
   "mimetype": "text/x-python",
   "name": "python",
   "nbconvert_exporter": "python",
   "pygments_lexer": "ipython3",
   "version": "3.12.7"
  }
 },
 "nbformat": 4,
 "nbformat_minor": 5
}
