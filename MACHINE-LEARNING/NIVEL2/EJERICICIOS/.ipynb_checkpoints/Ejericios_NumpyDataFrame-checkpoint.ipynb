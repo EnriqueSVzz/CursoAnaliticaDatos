{
 "cells": [
  {
   "cell_type": "markdown",
   "id": "0ec26196-ca75-4513-be61-c9b94b808c43",
   "metadata": {},
   "source": [
    "# ***Ejercicios Numpy y DataFrame***"
   ]
  },
  {
   "cell_type": "markdown",
   "id": "dbd1d2a5-87ca-4feb-8d00-9561a0ec42de",
   "metadata": {},
   "source": [
    "Importamos las librerías"
   ]
  },
  {
   "cell_type": "code",
   "execution_count": 23,
   "id": "74fff452-ad55-4fb0-a168-6523949ffa3e",
   "metadata": {},
   "outputs": [],
   "source": [
    "import numpy as np\n",
    "import pandas as pd\n",
    "from random import *\n",
    "import matplotlib.pyplot as plt\n",
    "import seaborn as sns"
   ]
  },
  {
   "cell_type": "markdown",
   "id": "8485a0ba-b763-4091-b9d4-bc20db9ea083",
   "metadata": {
    "jp-MarkdownHeadingCollapsed": true
   },
   "source": [
    "### Ejericio 1"
   ]
  },
  {
   "cell_type": "markdown",
   "id": "cd45cfb4-2b23-44fa-a5bb-06ff55da1244",
   "metadata": {},
   "source": [
    "1. Suma y estadísticas\n",
    "\n",
    "Crea un array NumPy de 100 números aleatorios entre 0 y 100. Muestra:\n",
    "* El mínimo, máximo, promedio y desviación estándar.\n",
    "* Cuántos valores están por encima del promedio.\n",
    "\n",
    "***Notas***\n",
    "* randint : nos permite generar un número entero aleatorio dentro de un rango especificado.\n",
    "* rand : nos proporciona un valor flotante aleatorio entre 0 y 1.\n",
    "* Recoderdemos que el ultimo valor no lo toma, por lo que debemos poner 101.\n",
    "* size es para las dimensiones a generar, en este caso como es unidmensional sería de 100x1. == (1,100).\n",
    "* Si ponemos el 1, no creara 100 filas de un valor. (100,1).\n",
    "* La ***desviación estándar*** es una medida estadística que cuantifica la dispersión o variabilidad de un conjunto de datos. Mide qué tan alejados están los valores individuales del promedio (media) del conjunto de datos.\n",
    "* Para una población\n",
    "$$\n",
    "\\sigma = \\sqrt{ \\frac{1}{n} \\sum_{i=1}^{n} (x_i - \\mu)^2 }\n",
    "$$\n",
    "* Desviación para una Muestra\n",
    "$$\n",
    "s = \\sqrt{ \\frac{1}{n - 1} \\sum_{i=1}^{n} (x_i - \\bar{x})^2 }\n",
    "$$"
   ]
  },
  {
   "cell_type": "code",
   "execution_count": 20,
   "id": "195d9a3d-dcb5-4a01-8a35-4b1e3855871d",
   "metadata": {},
   "outputs": [
    {
     "name": "stdout",
     "output_type": "stream",
     "text": [
      "\n",
      "Valores: [[  9  52  73  78  30  97  31  86  37  45  70  17  95  43  74  67  66  75\n",
      "   63  92  78  93   4  91  82  96  18  71  15  84  82   8  43  11  34  31\n",
      "   69  56  86 100  97  46   1  88   9   7  96  42  36 100  47  75  82  65\n",
      "   83  51  93  54  18  74  30  13  39  66  18  48  83  41  51   9  43  40\n",
      "   37  62  43  46  38  41  69  56  58  16   3  38  80  25  10  64  48  47\n",
      "   65  47  71  15  28   8  48   5  76  60]]\n",
      "\n",
      "Promedio: 52.01\n",
      "\n",
      "Valor Minimo: 1\n",
      "\n",
      "Valor Maximo: 100\n",
      "\n",
      "Desviación estándar 28.08\n",
      "\n",
      "Sobresalientes: [ 73  78  97  86  70  95  74  67  66  75  63  92  78  93  91  82  96  71\n",
      "  84  82  69  56  86 100  97  88  96 100  75  82  65  83  93  54  74  66\n",
      "  83  62  69  56  58  80  64  65  71  76  60]  Cantidad: 47\n"
     ]
    }
   ],
   "source": [
    "# datos = np.random.randint(0, 101, 100) # ChatGPT\n",
    "x = np.random.randint(1, 101, size=(1,100))\n",
    "\n",
    "# Calculamos el promedio de la muestra\n",
    "print(\"\\nValores:\", x)\n",
    "\n",
    "# guardamos el dato\n",
    "prom = x.mean()\n",
    "print(\"\\nPromedio:\",prom)\n",
    "print(\"\\nValor Minimo:\", x.min())\n",
    "print(\"\\nValor Maximo:\", x.max())\n",
    "print(\"\\nDesviación estándar %0.2f\" % np.std(x))\n",
    "\n",
    "# valores que pasan sobre el promedio\n",
    "print(\"\\nSobresalientes:\",x[x>prom], \" Cantidad:\", np.sum(x > prom))"
   ]
  },
  {
   "cell_type": "markdown",
   "id": "0416a030-c1ad-44af-a2ca-3d8ee6dc8f00",
   "metadata": {
    "jp-MarkdownHeadingCollapsed": true
   },
   "source": [
    "### Ejemplo 2"
   ]
  },
  {
   "cell_type": "markdown",
   "id": "86d4a7d8-a598-4679-81ac-529bf193abfa",
   "metadata": {},
   "source": [
    "2. Conversión a DataFrame\n",
    "Convierte una lista de diccionarios con nombres, edades y ciudades en un DataFrame de pandas. Luego:\n",
    "* Filtra los mayores de 30\n",
    "* Ordena por edad\n",
    "* Cuenta cuántos hay por ciudad\n",
    "\n",
    "***Notas***\n",
    "* Los filtros son iguales que en los arreglos de numpy.\n",
    "* En lugar de usar un ***sort(reverse=True)***, tenemos que usar el by t el ascending.\n",
    "* Este es muy bueno para contar las frecuencias de cada valor ***.value_counts()***."
   ]
  },
  {
   "cell_type": "code",
   "execution_count": 45,
   "id": "46736104-53aa-44f9-99a8-233852bf68da",
   "metadata": {},
   "outputs": [
    {
     "name": "stdout",
     "output_type": "stream",
     "text": [
      "\n",
      "Paises con su habitante mayor a 30:\n",
      "    nombre  edad     ciudad\n",
      "1    Luis    35  Barcelona\n",
      "2   María    42   Valencia\n",
      "4   Elena    31    Sevilla\n",
      "6   Lucía    45   Valencia\n",
      "7  Andrés    33     Madrid\n",
      "\n",
      "Paises ordenados por edad:\n",
      "    nombre  edad     ciudad\n",
      "6   Lucía    45   Valencia\n",
      "2   María    42   Valencia\n",
      "1    Luis    35  Barcelona\n",
      "7  Andrés    33     Madrid\n",
      "4   Elena    31    Sevilla\n",
      "5   Pablo    29  Barcelona\n",
      "0     Ana    28     Madrid\n",
      "3  Carlos    22     Madrid\n",
      "\n",
      "Frecuencias:\n",
      " ciudad\n",
      "Madrid       3\n",
      "Barcelona    2\n",
      "Valencia     2\n",
      "Sevilla      1\n",
      "Name: count, dtype: int64\n"
     ]
    }
   ],
   "source": [
    "# Lista de diccionarios con todo la información\n",
    "personas = [\n",
    "    {\"nombre\": \"Ana\", \"edad\": 28, \"ciudad\": \"Madrid\"},\n",
    "    {\"nombre\": \"Luis\", \"edad\": 35, \"ciudad\": \"Barcelona\"},\n",
    "    {\"nombre\": \"María\", \"edad\": 42, \"ciudad\": \"Valencia\"},\n",
    "    {\"nombre\": \"Carlos\", \"edad\": 22, \"ciudad\": \"Madrid\"},\n",
    "    {\"nombre\": \"Elena\", \"edad\": 31, \"ciudad\": \"Sevilla\"},\n",
    "    {\"nombre\": \"Pablo\", \"edad\": 29, \"ciudad\": \"Barcelona\"},\n",
    "    {\"nombre\": \"Lucía\", \"edad\": 45, \"ciudad\": \"Valencia\"},\n",
    "    {\"nombre\": \"Andrés\", \"edad\": 33, \"ciudad\": \"Madrid\"},\n",
    "]\n",
    "\n",
    "# transformamos a diccionario\n",
    "info = pd.DataFrame(personas)\n",
    "\n",
    "# personas mayores a 30\n",
    "filtro = info[\"edad\"]> 30\n",
    "print(\"\\nPaises con su habitante mayor a 30:\\n\", info[filtro])\n",
    "\n",
    "# ordenados por edad (descendentes)\n",
    "print(\"\\nPaises ordenados por edad:\\n\", info.sort_values(by=\"edad\",  ascending=False))\n",
    "\n",
    "# Frecuencias\n",
    "\"\"\"\n",
    "ciudades = list(info[\"ciudad\"])\n",
    "frec = {}\n",
    "for ciudad in ciudades:\n",
    "    if ciudad in frec.keys():\n",
    "        frec[ciudad] = frec[ciudad] + 1\n",
    "    else:\n",
    "        frec[ciudad] = 1\n",
    "print(\"\\nFrecuencias:\\n\", frec)\n",
    "\"\"\"\n",
    "print(\"\\nFrecuencias:\\n\", info[\"ciudad\"].value_counts())"
   ]
  },
  {
   "cell_type": "code",
   "execution_count": 43,
   "id": "2bd7e4ae-2f02-44cd-993d-fcd849a621ae",
   "metadata": {},
   "outputs": [
    {
     "data": {
      "text/plain": [
       "{'Madrid': 3, 'Barcelona': 2, 'Valencia': 2, 'Sevilla': 1}"
      ]
     },
     "execution_count": 43,
     "metadata": {},
     "output_type": "execute_result"
    }
   ],
   "source": [
    "ciudades = list(info[\"ciudad\"])\n",
    "frec = {}\n",
    "for ciudad in ciudades:\n",
    "    if ciudad in frec.keys():\n",
    "        frec[ciudad] = frec[ciudad] + 1\n",
    "    else:\n",
    "        frec[ciudad] = 1\n",
    "frec"
   ]
  },
  {
   "cell_type": "markdown",
   "id": "5a0291e2-dcf4-44bb-8fe3-7742b21b0b40",
   "metadata": {
    "jp-MarkdownHeadingCollapsed": true
   },
   "source": [
    "### Ejemplo 3"
   ]
  },
  {
   "cell_type": "markdown",
   "id": "25c10535-a4e9-44e4-8d37-bb8fda71d98d",
   "metadata": {},
   "source": [
    "3. Temperaturas\n",
    "Crea un DataFrame con temperaturas diarias (en °C) de una semana. Calcula:\n",
    "* Media por día\n",
    "* Qué días estuvieron por encima de 30°C\n",
    "* Agrega una columna que convierta las temperaturas a °F\n",
    "\n",
    "***Notas***\n",
    "* ***df[[\"Madrid\", \"Barcelona\", \"Sevilla\"]].mean(axis=1)*** : Tomamos las 3 columnas, y de promediamos de manera horizontal.\n",
    "    * 0: Por columna (default) → promedio por ciudad.\n",
    "    * 1: Por fila → promedio por día"
   ]
  },
  {
   "cell_type": "code",
   "execution_count": 63,
   "id": "694b15b8-01b3-4010-90f1-7ee55b118e68",
   "metadata": {},
   "outputs": [
    {
     "name": "stdout",
     "output_type": "stream",
     "text": [
      "\n",
      "Temperaturas:\n",
      "          día  Madrid  Barcelona  Sevilla  Promedio_dia\n",
      "0      Lunes      22         21       25     22.666667\n",
      "1     Martes      25         23       28     25.333333\n",
      "2  Miércoles      27         26       32     28.333333\n",
      "3     Jueves      30         29       36     31.666667\n",
      "4    Viernes      35         31       38     34.666667\n",
      "5     Sábado      33         30       37     33.333333\n",
      "6    Domingo      28         27       34     29.666667\n",
      "\n",
      " Dias mayores a 30:\n",
      "        día  Madrid  Barcelona  Sevilla  Promedio_dia\n",
      "3   Jueves      30         29       36     31.666667\n",
      "4  Viernes      35         31       38     34.666667\n",
      "5   Sábado      33         30       37     33.333333\n",
      "\n",
      " Faren:\n",
      "          día  Madrid  Barcelona  Sevilla  Promedio_dia  Faren\n",
      "0      Lunes      22         21       25     22.666667   72.8\n",
      "1     Martes      25         23       28     25.333333   77.6\n",
      "2  Miércoles      27         26       32     28.333333   83.0\n",
      "3     Jueves      30         29       36     31.666667   89.0\n",
      "4    Viernes      35         31       38     34.666667   94.4\n",
      "5     Sábado      33         30       37     33.333333   92.0\n",
      "6    Domingo      28         27       34     29.666667   85.4\n"
     ]
    }
   ],
   "source": [
    "# Crear un DataFrame con temperaturas por día\n",
    "datos = {\n",
    "    \"día\": [\"Lunes\", \"Martes\", \"Miércoles\", \"Jueves\", \"Viernes\", \"Sábado\", \"Domingo\"],\n",
    "    \"Madrid\": [22, 25, 27, 30, 35, 33, 28],\n",
    "    \"Barcelona\": [21, 23, 26, 29, 31, 30, 27],\n",
    "    \"Sevilla\": [25, 28, 32, 36, 38, 37, 34]\n",
    "}\n",
    "\n",
    "df = pd.DataFrame(datos)\n",
    "\n",
    "# Agregamos una columna con los promedios\n",
    "# Media por día \n",
    "df[\"Promedio_dia\"] = df[[\"Madrid\", \"Barcelona\", \"Sevilla\"]].mean(axis=1)\n",
    "print(\"\\nTemperaturas:\\n\", df)\n",
    "print(\"\\n Dias mayores a 30:\\n\", df[df[\"Promedio_dia\"]> 30])\n",
    "\n",
    "# Temperatura a Farenheit\n",
    "df[\"Faren\"] = (df[\"Promedio_dia\"] * 9/5) + 32\n",
    "print(\"\\n Faren:\\n\", df)"
   ]
  },
  {
   "cell_type": "code",
   "execution_count": 65,
   "id": "13c1dc13-4365-47fc-91b8-a7dc9c704c67",
   "metadata": {
    "scrolled": true
   },
   "outputs": [
    {
     "name": "stdout",
     "output_type": "stream",
     "text": [
      "=== DataFrame ===\n",
      "         día  Madrid  Barcelona  Sevilla    Media°C  Madrid_F  Barcelona_F  \\\n",
      "0      Lunes      22         21       25  22.666667      71.6         69.8   \n",
      "1     Martes      25         23       28  25.333333      77.0         73.4   \n",
      "2  Miércoles      27         26       32  28.333333      80.6         78.8   \n",
      "3     Jueves      30         29       36  31.666667      86.0         84.2   \n",
      "4    Viernes      35         31       38  34.666667      95.0         87.8   \n",
      "5     Sábado      33         30       37  33.333333      91.4         86.0   \n",
      "6    Domingo      28         27       34  29.666667      82.4         80.6   \n",
      "\n",
      "   Sevilla_F  \n",
      "0       77.0  \n",
      "1       82.4  \n",
      "2       89.6  \n",
      "3       96.8  \n",
      "4      100.4  \n",
      "5       98.6  \n",
      "6       93.2  \n",
      "\n",
      "=== Días con temperaturas > 30°C en alguna ciudad ===\n",
      "         día  Madrid  Barcelona  Sevilla\n",
      "2  Miércoles      27         26       32\n",
      "3     Jueves      30         29       36\n",
      "4    Viernes      35         31       38\n",
      "5     Sábado      33         30       37\n",
      "6    Domingo      28         27       34\n"
     ]
    }
   ],
   "source": [
    "# 1. Crear el DataFrame\n",
    "df = pd.DataFrame(datos)\n",
    "\n",
    "# 2. Calcular la media por día (promedio entre ciudades)\n",
    "df[\"Media°C\"] = df[[\"Madrid\", \"Barcelona\", \"Sevilla\"]].mean(axis=1)\n",
    "\n",
    "# 3. Días con temperaturas mayores a 30°C en al menos una ciudad\n",
    "dias_calientes = df[\n",
    "    (df[\"Madrid\"] > 30) | \n",
    "    (df[\"Barcelona\"] > 30) | \n",
    "    (df[\"Sevilla\"] > 30)\n",
    "]\n",
    "\n",
    "# 4. Agregar columnas en Fahrenheit\n",
    "df[\"Madrid_F\"] = df[\"Madrid\"] * 9/5 + 32\n",
    "df[\"Barcelona_F\"] = df[\"Barcelona\"] * 9/5 + 32\n",
    "df[\"Sevilla_F\"] = df[\"Sevilla\"] * 9/5 + 32\n",
    "\n",
    "# Mostrar resultados\n",
    "print(\"=== DataFrame ===\")\n",
    "print(df)\n",
    "\n",
    "print(\"\\n=== Días con temperaturas > 30°C en alguna ciudad ===\")\n",
    "print(dias_calientes[[\"día\", \"Madrid\", \"Barcelona\", \"Sevilla\"]])\n"
   ]
  },
  {
   "cell_type": "markdown",
   "id": "35dbb3a0-7a4b-4663-b579-0d0e69c71593",
   "metadata": {
    "jp-MarkdownHeadingCollapsed": true
   },
   "source": [
    "### Ejercio 4"
   ]
  },
  {
   "cell_type": "markdown",
   "id": "3b340340-c125-4807-8fb2-fab88247fc1c",
   "metadata": {},
   "source": [
    "Genera un DataFrame con valores faltantes (NaN). Practica:\n",
    "\n",
    "* Reemplazarlos con la media o mediana\n",
    "* Eliminar las filas/columnas con demasiados NaN\n",
    "* Rellenar con un valor constante\n",
    "\n",
    "***Nota***\n",
    "* ***np.nan*** literalmente sirve para no poner valores una una columna."
   ]
  },
  {
   "cell_type": "code",
   "execution_count": 11,
   "id": "8a08efe1-5479-4bea-938a-6768e335fcfe",
   "metadata": {},
   "outputs": [],
   "source": [
    "# Crearamos nuestro diccionario.\n",
    "datos = {\n",
    "    \"estudiante\": [\"Ana\", \"Luis\", \"María\", \"Carlos\", \"Elena\", \"Pablo\", \"Lucía\"],\n",
    "    \"matemáticas\": [8, 6, np.nan, 7, 9, np.nan, 5],\n",
    "    \"historia\": [7, np.nan, 6, 5, np.nan, 8, 7],\n",
    "    \"ciencias\": [np.nan, 8, 7, 6, 5, 9, np.nan]\n",
    "}\n",
    "\n",
    "# Inicializamos nuestro data frame\n",
    "df = pd.DataFrame(datos)"
   ]
  },
  {
   "cell_type": "markdown",
   "id": "86800c39-0f71-4998-8953-a9e75716891f",
   "metadata": {},
   "source": [
    "* ***`.fillna(df.mean(numeric_only=True))`*** : Este método rellena los NaN con la media de cada columna.\n",
    "* ***`df.mean(numeric_only=True)`*** : Calcula la media de todas las columnas numéricas. \n",
    "* El argumento `numeric_only=True` en funciones como `.mean()` o `.median()` controla qué columnas se incluyen en el cálculo.\n",
    "* Si tu DataFrame tiene columnas no numéricas, pandas puede lanzar un FutureWarning (o incluso un error en versiones futuras)., por eso debemos usar `numeric_only=True`"
   ]
  },
  {
   "cell_type": "code",
   "execution_count": 14,
   "id": "2d434f80-4ce9-4a0a-837b-d8d98fe88f4d",
   "metadata": {},
   "outputs": [
    {
     "data": {
      "text/html": [
       "<div>\n",
       "<style scoped>\n",
       "    .dataframe tbody tr th:only-of-type {\n",
       "        vertical-align: middle;\n",
       "    }\n",
       "\n",
       "    .dataframe tbody tr th {\n",
       "        vertical-align: top;\n",
       "    }\n",
       "\n",
       "    .dataframe thead th {\n",
       "        text-align: right;\n",
       "    }\n",
       "</style>\n",
       "<table border=\"1\" class=\"dataframe\">\n",
       "  <thead>\n",
       "    <tr style=\"text-align: right;\">\n",
       "      <th></th>\n",
       "      <th>estudiante</th>\n",
       "      <th>matemáticas</th>\n",
       "      <th>historia</th>\n",
       "      <th>ciencias</th>\n",
       "    </tr>\n",
       "  </thead>\n",
       "  <tbody>\n",
       "    <tr>\n",
       "      <th>0</th>\n",
       "      <td>Ana</td>\n",
       "      <td>8.0</td>\n",
       "      <td>7.0</td>\n",
       "      <td>7.0</td>\n",
       "    </tr>\n",
       "    <tr>\n",
       "      <th>1</th>\n",
       "      <td>Luis</td>\n",
       "      <td>6.0</td>\n",
       "      <td>6.6</td>\n",
       "      <td>8.0</td>\n",
       "    </tr>\n",
       "    <tr>\n",
       "      <th>2</th>\n",
       "      <td>María</td>\n",
       "      <td>7.0</td>\n",
       "      <td>6.0</td>\n",
       "      <td>7.0</td>\n",
       "    </tr>\n",
       "    <tr>\n",
       "      <th>3</th>\n",
       "      <td>Carlos</td>\n",
       "      <td>7.0</td>\n",
       "      <td>5.0</td>\n",
       "      <td>6.0</td>\n",
       "    </tr>\n",
       "    <tr>\n",
       "      <th>4</th>\n",
       "      <td>Elena</td>\n",
       "      <td>9.0</td>\n",
       "      <td>6.6</td>\n",
       "      <td>5.0</td>\n",
       "    </tr>\n",
       "    <tr>\n",
       "      <th>5</th>\n",
       "      <td>Pablo</td>\n",
       "      <td>7.0</td>\n",
       "      <td>8.0</td>\n",
       "      <td>9.0</td>\n",
       "    </tr>\n",
       "    <tr>\n",
       "      <th>6</th>\n",
       "      <td>Lucía</td>\n",
       "      <td>5.0</td>\n",
       "      <td>7.0</td>\n",
       "      <td>7.0</td>\n",
       "    </tr>\n",
       "  </tbody>\n",
       "</table>\n",
       "</div>"
      ],
      "text/plain": [
       "  estudiante  matemáticas  historia  ciencias\n",
       "0        Ana          8.0       7.0       7.0\n",
       "1       Luis          6.0       6.6       8.0\n",
       "2      María          7.0       6.0       7.0\n",
       "3     Carlos          7.0       5.0       6.0\n",
       "4      Elena          9.0       6.6       5.0\n",
       "5      Pablo          7.0       8.0       9.0\n",
       "6      Lucía          5.0       7.0       7.0"
      ]
     },
     "execution_count": 14,
     "metadata": {},
     "output_type": "execute_result"
    }
   ],
   "source": [
    "# Podemos usar el promedio\n",
    "df_media = df.copy()\n",
    "df_media[[\"matemáticas\", \"historia\", \"ciencias\"]] = df_media[[\"matemáticas\", \"historia\", \"ciencias\"]].fillna(df.mean(numeric_only=True))\n",
    "df_media"
   ]
  },
  {
   "cell_type": "code",
   "execution_count": 13,
   "id": "225cb7fa-adce-4dc4-a5ac-91e350fe109c",
   "metadata": {},
   "outputs": [
    {
     "data": {
      "text/html": [
       "<div>\n",
       "<style scoped>\n",
       "    .dataframe tbody tr th:only-of-type {\n",
       "        vertical-align: middle;\n",
       "    }\n",
       "\n",
       "    .dataframe tbody tr th {\n",
       "        vertical-align: top;\n",
       "    }\n",
       "\n",
       "    .dataframe thead th {\n",
       "        text-align: right;\n",
       "    }\n",
       "</style>\n",
       "<table border=\"1\" class=\"dataframe\">\n",
       "  <thead>\n",
       "    <tr style=\"text-align: right;\">\n",
       "      <th></th>\n",
       "      <th>estudiante</th>\n",
       "      <th>matemáticas</th>\n",
       "      <th>historia</th>\n",
       "      <th>ciencias</th>\n",
       "    </tr>\n",
       "  </thead>\n",
       "  <tbody>\n",
       "    <tr>\n",
       "      <th>0</th>\n",
       "      <td>Ana</td>\n",
       "      <td>8.0</td>\n",
       "      <td>7.0</td>\n",
       "      <td>7.0</td>\n",
       "    </tr>\n",
       "    <tr>\n",
       "      <th>1</th>\n",
       "      <td>Luis</td>\n",
       "      <td>6.0</td>\n",
       "      <td>7.0</td>\n",
       "      <td>8.0</td>\n",
       "    </tr>\n",
       "    <tr>\n",
       "      <th>2</th>\n",
       "      <td>María</td>\n",
       "      <td>7.0</td>\n",
       "      <td>6.0</td>\n",
       "      <td>7.0</td>\n",
       "    </tr>\n",
       "    <tr>\n",
       "      <th>3</th>\n",
       "      <td>Carlos</td>\n",
       "      <td>7.0</td>\n",
       "      <td>5.0</td>\n",
       "      <td>6.0</td>\n",
       "    </tr>\n",
       "    <tr>\n",
       "      <th>4</th>\n",
       "      <td>Elena</td>\n",
       "      <td>9.0</td>\n",
       "      <td>7.0</td>\n",
       "      <td>5.0</td>\n",
       "    </tr>\n",
       "    <tr>\n",
       "      <th>5</th>\n",
       "      <td>Pablo</td>\n",
       "      <td>7.0</td>\n",
       "      <td>8.0</td>\n",
       "      <td>9.0</td>\n",
       "    </tr>\n",
       "    <tr>\n",
       "      <th>6</th>\n",
       "      <td>Lucía</td>\n",
       "      <td>5.0</td>\n",
       "      <td>7.0</td>\n",
       "      <td>7.0</td>\n",
       "    </tr>\n",
       "  </tbody>\n",
       "</table>\n",
       "</div>"
      ],
      "text/plain": [
       "  estudiante  matemáticas  historia  ciencias\n",
       "0        Ana          8.0       7.0       7.0\n",
       "1       Luis          6.0       7.0       8.0\n",
       "2      María          7.0       6.0       7.0\n",
       "3     Carlos          7.0       5.0       6.0\n",
       "4      Elena          9.0       7.0       5.0\n",
       "5      Pablo          7.0       8.0       9.0\n",
       "6      Lucía          5.0       7.0       7.0"
      ]
     },
     "execution_count": 13,
     "metadata": {},
     "output_type": "execute_result"
    }
   ],
   "source": [
    "# Igualmente la mediana\n",
    "df_mediana = df.copy()\n",
    "df_mediana[[\"matemáticas\", \"historia\", \"ciencias\"]] = df_mediana[[\"matemáticas\", \"historia\", \"ciencias\"]].fillna(df.median(numeric_only=True))\n",
    "df_mediana"
   ]
  },
  {
   "cell_type": "markdown",
   "id": "683db0a2-019d-4408-9962-f5c3e9ffa679",
   "metadata": {},
   "source": [
    "* En este caso solo rellanamos los NaN con un valor, realmente podemos asignarle cualquier valor."
   ]
  },
  {
   "cell_type": "code",
   "execution_count": 18,
   "id": "c55d6fe0-639f-49da-84eb-de824df4b40a",
   "metadata": {},
   "outputs": [
    {
     "data": {
      "text/html": [
       "<div>\n",
       "<style scoped>\n",
       "    .dataframe tbody tr th:only-of-type {\n",
       "        vertical-align: middle;\n",
       "    }\n",
       "\n",
       "    .dataframe tbody tr th {\n",
       "        vertical-align: top;\n",
       "    }\n",
       "\n",
       "    .dataframe thead th {\n",
       "        text-align: right;\n",
       "    }\n",
       "</style>\n",
       "<table border=\"1\" class=\"dataframe\">\n",
       "  <thead>\n",
       "    <tr style=\"text-align: right;\">\n",
       "      <th></th>\n",
       "      <th>estudiante</th>\n",
       "      <th>matemáticas</th>\n",
       "      <th>historia</th>\n",
       "      <th>ciencias</th>\n",
       "    </tr>\n",
       "  </thead>\n",
       "  <tbody>\n",
       "    <tr>\n",
       "      <th>0</th>\n",
       "      <td>Ana</td>\n",
       "      <td>8.0</td>\n",
       "      <td>7.0</td>\n",
       "      <td>Sin dato</td>\n",
       "    </tr>\n",
       "    <tr>\n",
       "      <th>1</th>\n",
       "      <td>Luis</td>\n",
       "      <td>6.0</td>\n",
       "      <td>Sin dato</td>\n",
       "      <td>8.0</td>\n",
       "    </tr>\n",
       "    <tr>\n",
       "      <th>2</th>\n",
       "      <td>María</td>\n",
       "      <td>Sin dato</td>\n",
       "      <td>6.0</td>\n",
       "      <td>7.0</td>\n",
       "    </tr>\n",
       "    <tr>\n",
       "      <th>3</th>\n",
       "      <td>Carlos</td>\n",
       "      <td>7.0</td>\n",
       "      <td>5.0</td>\n",
       "      <td>6.0</td>\n",
       "    </tr>\n",
       "    <tr>\n",
       "      <th>4</th>\n",
       "      <td>Elena</td>\n",
       "      <td>9.0</td>\n",
       "      <td>Sin dato</td>\n",
       "      <td>5.0</td>\n",
       "    </tr>\n",
       "    <tr>\n",
       "      <th>5</th>\n",
       "      <td>Pablo</td>\n",
       "      <td>Sin dato</td>\n",
       "      <td>8.0</td>\n",
       "      <td>9.0</td>\n",
       "    </tr>\n",
       "    <tr>\n",
       "      <th>6</th>\n",
       "      <td>Lucía</td>\n",
       "      <td>5.0</td>\n",
       "      <td>7.0</td>\n",
       "      <td>Sin dato</td>\n",
       "    </tr>\n",
       "  </tbody>\n",
       "</table>\n",
       "</div>"
      ],
      "text/plain": [
       "  estudiante matemáticas  historia  ciencias\n",
       "0        Ana         8.0       7.0  Sin dato\n",
       "1       Luis         6.0  Sin dato       8.0\n",
       "2      María    Sin dato       6.0       7.0\n",
       "3     Carlos         7.0       5.0       6.0\n",
       "4      Elena         9.0  Sin dato       5.0\n",
       "5      Pablo    Sin dato       8.0       9.0\n",
       "6      Lucía         5.0       7.0  Sin dato"
      ]
     },
     "execution_count": 18,
     "metadata": {},
     "output_type": "execute_result"
    }
   ],
   "source": [
    "df_constante = df.fillna(\"Sin dato\")\n",
    "df_constante"
   ]
  },
  {
   "cell_type": "markdown",
   "id": "3ff7ae5a-fa23-4fb2-9087-a4c2a01345fe",
   "metadata": {
    "jp-MarkdownHeadingCollapsed": true
   },
   "source": [
    "### Ejercicio 5"
   ]
  },
  {
   "cell_type": "markdown",
   "id": "ce9c66be-c4b4-41d2-b250-bf831a0a938a",
   "metadata": {},
   "source": [
    "Simula un DataFrame de ventas con las siguientes columnas:\n",
    "\n",
    "fecha, producto, precio_unitario, cantidad\n",
    "Haz:\n",
    "* Una nueva columna total (precio x cantidad)\n",
    "* Total vendido por producto (groupby)\n",
    "* Día con mayores ventas\n",
    "* Producto más vendido en cantidad\n",
    "\n",
    "***NOTAS**\n",
    "* DataFrame.groupby(by=None, axis=0, level=None, as_index=True, sort=True, group_keys=True, observed=False, dropna=True)\n",
    "* Parameters :\n",
    "  * `by`: Required parameter to specify the column(s) to group by.\n",
    "  * `axis`: Optional, specifies the axis to group by (default is 0 for rows).\n",
    "  * `level`: Optional, used for grouping by a certain level in a MultiIndex.\n",
    "  * `as_index`: Optional, whether to use the group labels as the index (default is True).\n",
    "  * `sort`: Optional, whether to sort the group keys (default is True).\n",
    "  * `group_keys`: Optional, whether to add the group keys to the index (default is True).\n",
    "  * `dropna`: Optional, whether to include rows/columns with NULL values (default is True"
   ]
  },
  {
   "cell_type": "code",
   "execution_count": 44,
   "id": "dd2392dd-4e7c-4449-a7ec-fae02f83d936",
   "metadata": {},
   "outputs": [
    {
     "name": "stdout",
     "output_type": "stream",
     "text": [
      "\n",
      "Registro:\n",
      "        fecha producto  precio_unitario  cantidad  entrada\n",
      "0 2024-05-01   Laptop             1200         1     1200\n",
      "1 2024-05-01    Mouse               25         3       75\n",
      "2 2024-05-02  Teclado               45         2       90\n",
      "3 2024-05-02   Laptop             1200         2     2400\n",
      "4 2024-05-03    Mouse               30         5      150\n",
      "5 2024-05-03  Teclado               50         1       50\n",
      "6 2024-05-04   Laptop             1150         1     1150\n",
      "7 2024-05-04    Mouse               28         4      112\n",
      "8 2024-05-05  Teclado               48         3      144\n",
      "9 2024-05-05   Laptop             1100         2     2200\n",
      "\n",
      "Prodcuto con mayor venta: Laptop\n",
      "producto\n",
      "Laptop     6950\n",
      "Mouse       337\n",
      "Teclado     284\n",
      "Name: entrada, dtype: int64\n",
      "\n",
      "Max Ventas Por día:\n",
      " 2024-05-02 00:00:00\n",
      "fecha\n",
      "2024-05-01    1275\n",
      "2024-05-02    2490\n",
      "2024-05-03     200\n",
      "2024-05-04    1262\n",
      "2024-05-05    2344\n",
      "Name: entrada, dtype: int64\n"
     ]
    }
   ],
   "source": [
    "# Definimos el diccionario con la información.\n",
    "datos = {\n",
    "    \"fecha\": [\n",
    "        \"2024-05-01\", \"2024-05-01\", \"2024-05-02\", \"2024-05-02\", \"2024-05-03\",\n",
    "        \"2024-05-03\", \"2024-05-04\", \"2024-05-04\", \"2024-05-05\", \"2024-05-05\"\n",
    "    ],\n",
    "    \"producto\": [\n",
    "        \"Laptop\", \"Mouse\", \"Teclado\", \"Laptop\", \"Mouse\",\n",
    "        \"Teclado\", \"Laptop\", \"Mouse\", \"Teclado\", \"Laptop\"\n",
    "    ],\n",
    "    \"precio_unitario\": [\n",
    "        1200, 25, 45, 1200, 30,\n",
    "        50, 1150, 28, 48, 1100\n",
    "    ],\n",
    "    \"cantidad\": [\n",
    "        1, 3, 2, 2, 5,\n",
    "        1, 1, 4, 3, 2\n",
    "    ]\n",
    "}\n",
    "\n",
    "df = pd.DataFrame(datos)\n",
    "# Confirmamos que realmente sea una fecha\n",
    "df[\"fecha\"] = pd.to_datetime(df[\"fecha\"])\n",
    "\n",
    "# Calculamos lo vendido\n",
    "df[\"entrada\"] =  df[\"precio_unitario\"] * df[\"cantidad\"]\n",
    "print(\"\\nRegistro:\\n\", df)\n",
    "\n",
    "# Sacamos cuanto vendío cada articulo\n",
    "venta = df.groupby(\"producto\")[\"entrada\"].sum()\n",
    "prod_max = venta.idxmax()\n",
    "print(\"\\nProdcuto con mayor venta:\", prod_max)\n",
    "print(venta)\n",
    "\n",
    "# Día con mayores ventas\n",
    "dia = df.groupby(\"fecha\")[\"entrada\"].sum()\n",
    "dia_max_ventas = dia.idxmax()\n",
    "print(\"\\nMax Ventas Por día:\\n\", dia_max_ventas)\n",
    "print(dia)\n"
   ]
  },
  {
   "cell_type": "markdown",
   "id": "44139b39-ee6a-4565-adf4-41897b36f272",
   "metadata": {},
   "source": [
    "### Ejercicio 6"
   ]
  },
  {
   "cell_type": "markdown",
   "id": "73dd08b2-5435-43f4-8a36-285ac04bf4fe",
   "metadata": {},
   "source": [
    "Crea un DataFrame con estudiantes y sus notas en 3 materias. Calcula:\n",
    "\n",
    "* Promedio por alumno.\n",
    "* Cuántos aprobaron cada materia (nota >= 6).\n",
    "* Ranking de estudiantes por promedio."
   ]
  },
  {
   "cell_type": "code",
   "execution_count": 8,
   "id": "56fb07ff-3042-4efc-b26d-094db7519119",
   "metadata": {},
   "outputs": [
    {
     "name": "stdout",
     "output_type": "stream",
     "text": [
      "\n",
      "Alumnos:\n",
      "   estudiante  matemáticas  historia  ciencias  promedio\n",
      "0        Ana          8.5       7.0       9.0  8.166667\n",
      "1       Luis          6.0       8.0       7.5  7.166667\n",
      "2      María          9.0       9.5       8.5  9.000000\n",
      "3     Carlos          7.0       5.5       6.0  6.166667\n",
      "4      Elena          5.5       6.0       5.0  5.500000\n",
      "5      Pablo          6.5       7.5       6.5  6.833333\n",
      "6      Lucía          8.0       8.0       9.0  8.333333\n",
      "7     Andrés          4.5       5.0       4.0  4.500000\n",
      "\n",
      "Acreditados:\n",
      "\n",
      "  estudiante  matemáticas  historia  ciencias\n",
      "0        Ana          8.5       7.0       9.0\n",
      "1       Luis          6.0       8.0       7.5\n",
      "2      María          9.0       9.5       8.5\n",
      "3     Carlos          7.0       5.5       6.0\n",
      "5      Pablo          6.5       7.5       6.5\n",
      "6      Lucía          8.0       8.0       9.0\n",
      "\n",
      "Primeros Lugares:\n",
      "\n",
      "  estudiante  matemáticas  historia  ciencias  promedio\n",
      "2      María          9.0       9.5       8.5  9.000000\n",
      "6      Lucía          8.0       8.0       9.0  8.333333\n",
      "0        Ana          8.5       7.0       9.0  8.166667\n",
      "1       Luis          6.0       8.0       7.5  7.166667\n",
      "5      Pablo          6.5       7.5       6.5  6.833333\n",
      "3     Carlos          7.0       5.5       6.0  6.166667\n",
      "4      Elena          5.5       6.0       5.0  5.500000\n",
      "7     Andrés          4.5       5.0       4.0  4.500000\n"
     ]
    }
   ],
   "source": [
    "# Crear el DataFrame\n",
    "datos = {\n",
    "    \"estudiante\": [\"Ana\", \"Luis\", \"María\", \"Carlos\", \"Elena\", \"Pablo\", \"Lucía\", \"Andrés\"],\n",
    "    \"matemáticas\": [8.5, 6.0, 9.0, 7.0, 5.5, 6.5, 8.0, 4.5],\n",
    "    \"historia\": [7.0, 8.0, 9.5, 5.5, 6.0, 7.5, 8.0, 5.0],\n",
    "    \"ciencias\": [9.0, 7.5, 8.5, 6.0, 5.0, 6.5, 9.0, 4.0]\n",
    "}\n",
    "\n",
    "df = pd.DataFrame(datos)\n",
    "# Promedio por alumno\n",
    "df[\"promedio\"] = df[[\"matemáticas\",\"historia\",\"ciencias\"]].mean(axis=1)\n",
    "print(\"\\nAlumnos:\\n\", df)\n",
    "\n",
    "\n",
    "# Imprimir todos los acreditados por materia\n",
    "acreditados = df[\n",
    "    (df[\"matemáticas\"] > 6) | \n",
    "    (df[\"historia\"] > 6) | \n",
    "    (df[\"ciencias\"] > 6)\n",
    "]\n",
    "\n",
    "print(\"\\nAcreditados:\\n\")\n",
    "print(acreditados[[\"estudiante\", \"matemáticas\", \"historia\", \"ciencias\"]])\n",
    "\n",
    "# Imprimimos el ordenamiento por promedio\n",
    "print(\"\\nPrimeros Lugares:\\n\")\n",
    "print(df.sort_values(by=\"promedio\", ascending=False))"
   ]
  },
  {
   "cell_type": "markdown",
   "id": "d81ed676-65e6-47ee-a721-bf13729fc2ee",
   "metadata": {},
   "source": [
    "### Ejercicio 7"
   ]
  },
  {
   "cell_type": "markdown",
   "id": "9a68dade-8413-4e5a-80d2-8fadf3cfc05d",
   "metadata": {},
   "source": [
    "Tienes dos DataFrames:\n",
    "\n",
    "1. Uno con id_estudiante, nombre, edad\n",
    "2. Otro con id_estudiante, curso, nota\n",
    "\n",
    "Haz una unión (merge) y responde:\n",
    "* ¿Qué estudiante tiene mejor nota por curso?\n",
    "* ¿Cuál es el promedio de edad por curso?\n",
    "\n",
    "***Notas***\n",
    "* En este caso no podemos usar `pandas.concat()`. Para unir los dataframes podemos usar el método `.merge()` que es exactamente igual que la función `pandas.merge()`, y nos permitirá seleccionar la columna por la que queremos unir, y la forma de unión.\n",
    "```python\n",
    "df_1 = pd.DataFrame({\"id\": [1,2,3,4,5],\n",
    "                    \"fruta\": [\"manzana\", \"pera\", \"platano\", \"naranja\", \"aguacate\"],\n",
    "                    \"precio\": [0.20, 0.45, 0.15, 0.12, 0.62]})\n",
    "\n",
    "df_2 = pd.DataFrame({\"id\":[5,4,3,2,1],\n",
    "                     \"stock\": [10, 20, 25, 12, 40]})\n",
    "df_3 = pd.DataFrame({\"id\":[4,2,5,1,3],\n",
    "                     \"ventas_totales\":[3, 5, 2, 3, 6],\n",
    "                     \"ingresos_ventas\": [120, 110, 64,44, 147]})\n",
    "df_1.merge(df_2, on=\"id\", how=\"left\")\n",
    "#unimos el primero al segundo y el resultado de dicha unión, le unimos el tercero\n",
    "df_1.merge(df_2, on=\"id\", how=\"left\").merge(df_3, on=\"id\", how=\"left\")\n",
    "```"
   ]
  },
  {
   "cell_type": "code",
   "execution_count": 21,
   "id": "9cfdd753-339e-4d9c-b78d-667432c7f670",
   "metadata": {},
   "outputs": [
    {
     "name": "stdout",
     "output_type": "stream",
     "text": [
      "\n",
      "Mejor Nota:\n",
      "\n",
      "   id_estudiante     curso  nota nombre  edad\n",
      "2              3  Historia   9.8  María    21\n",
      "\n",
      "Edades:\n",
      "\n",
      "curso\n",
      "Historia       21.500000\n",
      "Matemáticas    20.666667\n",
      "Name: edad, dtype: float64\n"
     ]
    }
   ],
   "source": [
    "# Definimos nuestros DataFrame\n",
    "df_estudiantes = pd.DataFrame({\n",
    "    'id_estudiante': [1, 2, 3, 4, 5],\n",
    "    'nombre': ['Ana', 'Luis', 'María', 'Pedro', 'Sofía'],\n",
    "    'edad': [20, 22, 21, 23, 20]\n",
    "})\n",
    "\n",
    "df_notas = pd.DataFrame({\n",
    "    'id_estudiante': [1, 2, 3, 1, 4, 5, 2],\n",
    "    'curso': ['Matemáticas', 'Matemáticas', 'Historia', 'Historia', 'Historia', 'Matemáticas', 'Historia'],\n",
    "    'nota': [9.5, 8.7, 9.8, 7.5, 8.2, 9.0, 9.5]\n",
    "})\n",
    "\n",
    "# Hacemos el merge necesario\n",
    "df_final = df_notas.merge(df_estudiantes, on=\"id_estudiante\", how=\"left\")\n",
    "\n",
    "# Mejor nota de la clase\n",
    "print(\"\\nMejor Nota:\\n\")\n",
    "print(df_final.sort_values(by=\"nota\", ascending = False).head(1))\n",
    "\n",
    "# Edad promedio por curso\n",
    "edades = df_final.groupby(\"curso\")[\"edad\"].mean()\n",
    "print(\"\\nEdades:\\n\")\n",
    "print(edades)"
   ]
  },
  {
   "cell_type": "markdown",
   "id": "8eff8d42-ed68-4938-ae48-57b880d5e6b7",
   "metadata": {},
   "source": [
    "* `.loc` es un accesor de etiquetas en pandas, y sirve para seleccionar filas o columnas de un DataFrame por etiquetas (no por posición).\n",
    "* Te permite seleccionar datos usando los nombres (etiquetas) de filas y columnas.\n",
    "* Es muy útil cuando quieres extraer subconjuntos del DataFrame o modificar datos.\n",
    "* `df.loc[3]`  # Devuelve la fila con índice 3\n",
    "* `df.loc[3, 'nombre']`  # Devuelve el valor en fila 3, columna 'nombre'\n",
    "* `df.loc[df['edad'] > 21]`  # Filas donde la edad es mayor a 21"
   ]
  },
  {
   "cell_type": "code",
   "execution_count": 23,
   "id": "904b4615-6c73-4748-9a6b-6d1ce2844135",
   "metadata": {},
   "outputs": [
    {
     "name": "stdout",
     "output_type": "stream",
     "text": [
      "\n",
      "Mejor Nota:\n",
      "\n",
      "         curso nombre  nota\n",
      "2     Historia  María   9.8\n",
      "0  Matemáticas    Ana   9.5\n",
      "\n",
      "Edades:\n",
      "\n",
      "         curso       edad\n",
      "0     Historia  21.500000\n",
      "1  Matemáticas  20.666667\n"
     ]
    }
   ],
   "source": [
    "\"\"\"\n",
    "VERSION GPT\n",
    "\"\"\"\n",
    "df_merged = pd.merge(df_notas, df_estudiantes, on='id_estudiante')\n",
    "\n",
    "# Localizamos la fila con la mayor nota de cada curso y traemos las 3 columnas\n",
    "mejores = df_merged.loc[df_merged.groupby('curso')['nota'].idxmax()][['curso', 'nombre', 'nota']]\n",
    "\n",
    "print(\"\\nMejor Nota:\\n\")\n",
    "print(mejores)\n",
    "\n",
    "print(\"\\nEdades:\\n\")\n",
    "# Esto si lo hice igual\n",
    "prom_edad = df_merged.groupby('curso')['edad'].mean().reset_index()\n",
    "print(prom_edad)"
   ]
  },
  {
   "cell_type": "markdown",
   "id": "242e6e30-c8b3-4349-a75c-388d5d569558",
   "metadata": {},
   "source": [
    "### Ejemplo 8"
   ]
  },
  {
   "cell_type": "markdown",
   "id": "60663b75-7ed3-4975-af67-979ce6d5b322",
   "metadata": {},
   "source": [
    "Carga un CSV ficticio con datos diarios de clima:\n",
    "\n",
    "1. fecha, temperatura, humedad, lluvia (sí/no)\n",
    "\n",
    "Analiza:\n",
    "* Promedio de temperatura por mes.\n",
    "* ¿Qué porcentaje de días llovió?.\n",
    "* Días extremos: más calor, más humedad, menos temperatura."
   ]
  },
  {
   "cell_type": "code",
   "execution_count": 38,
   "id": "2244d163-0961-4481-9219-0f4632b3fb39",
   "metadata": {},
   "outputs": [
    {
     "name": "stdout",
     "output_type": "stream",
     "text": [
      "\n",
      "Promedio de temperatura por mes:\n",
      "\n",
      "   mes  temperatura\n",
      "0    1         22.0\n",
      "1    2         26.6\n",
      "2    3         30.2\n",
      "\n",
      "Porcentaje de días con lluvia: 46.67%\n",
      "\n",
      "Mayor temperatura:\n",
      " fecha          2025-03-04 00:00:00\n",
      "temperatura                   32.0\n",
      "humedad                         63\n",
      "lluvia                          sí\n",
      "mes                              3\n",
      "Name: 13, dtype: object\n",
      "\n",
      "Menor temperatura:\n",
      " fecha          2025-01-05 00:00:00\n",
      "temperatura                   19.0\n",
      "humedad                         75\n",
      "lluvia                          sí\n",
      "mes                              1\n",
      "Name: 4, dtype: object\n",
      "\n",
      "Mayor Humedad:\n",
      " fecha          2025-02-03 00:00:00\n",
      "temperatura                   28.0\n",
      "humedad                         80\n",
      "lluvia                          sí\n",
      "mes                              2\n",
      "Name: 7, dtype: object\n"
     ]
    }
   ],
   "source": [
    "path = \"C:\\\\Users\\\\PC\\\\OneDrive\\\\Documentos\\\\CursoAnaliticaDatos\\\\MACHINE-LEARNING\\\\NIVEL2\\\\datos\\\\clima.csv\"\n",
    "\n",
    "# Parceamos la fecha\n",
    "clima = pd.read_csv(path, parse_dates=['fecha'])\n",
    "\n",
    "# Creamos una columna nueva para no alterar los datos de fecha\n",
    "clima['mes'] = clima['fecha'].dt.month\n",
    "\n",
    "# Promedio de temperatura por mes\n",
    "prom_temp = clima.groupby('mes')['temperatura'].mean().reset_index()\n",
    "print(\"\\nPromedio de temperatura por mes:\\n\")\n",
    "print(prom_temp)\n",
    "\n",
    "# Porcentaje de los días que llovío\n",
    "total_dias = len(clima)\n",
    "dias_lluvia = len(clima[clima['lluvia'] == 'sí'])\n",
    "porcentaje_lluvia = dias_lluvia / total_dias * 100\n",
    "print(f\"\\nPorcentaje de días con lluvia: {porcentaje_lluvia:.2f}%\")\n",
    "\n",
    "# Días extremos: más calor, más humedad, menos temperatura. (No es necesario ordenar)\n",
    "# Nos imprimería toda la fila.\n",
    "max_temp = clima.loc[clima['temperatura'].idxmax()]\n",
    "min_temp = clima.loc[clima['temperatura'].idxmin()]\n",
    "max_hum = clima.loc[clima['humedad'].idxmax()]\n",
    "\n",
    "print(\"\\nMayor temperatura:\\n\", max_temp)\n",
    "print(\"\\nMenor temperatura:\\n\", min_temp)\n",
    "print(\"\\nMayor Humedad:\\n\", max_hum)"
   ]
  },
  {
   "cell_type": "markdown",
   "id": "9f1b111c-9fae-458d-b4c6-ba9a390ed46f",
   "metadata": {},
   "source": [
    "### Ejercicio 9"
   ]
  },
  {
   "cell_type": "markdown",
   "id": "0b8c3807-30c6-4446-adac-b8d5bf49d15c",
   "metadata": {},
   "source": [
    "Simula o descarga un archivo CSV con datos de empleados:\n",
    "\n",
    "1. nombre, departamento, salario, años_experiencia, edad\n",
    "\n",
    "Haz:\n",
    "* Estadísticas descriptivas por departamento\n",
    "* ¿Existe correlación entre edad y salario?\n",
    "* ¿Quién gana más por año de experiencia?\n",
    "* Gráfica de distribución de sueldos por departamento (con matplotlib o seaborn si puedes)\n",
    "\n",
    "***Notas***\n",
    "* La correlación entre datos mide la relación o asociación entre dos variables. Es decir, cuánto cambia una variable cuando cambia otra.\n",
    "* Si dos variables están correlacionadas, significa que hay un patrón en cómo varían juntas.\n",
    "* La correlación no implica causalidad, solo que hay una relación numérica observable.\n",
    "* `.corr()`usamos esto para sacar la correlación entre datos.\n",
    "    * Positiva perfecta\t+1.0\tAmbas variables suben o bajan juntas.\n",
    "    * Positiva\tEntre 0 y +1\tHay una relación directa: si una sube, la otra también suele subir.\n",
    "    * Nula (sin correlación)\t0\tNo hay relación clara entre ambas.\n",
    "    * Negativa\tEntre 0 y –1\tUna sube y la otra baja (relación inversa).\n",
    "    * Negativa perfecta\t–1.0\tUna sube cuando la otra baja, exactamente."
   ]
  },
  {
   "cell_type": "code",
   "execution_count": 17,
   "id": "6100caff-5b8c-4037-b7d7-4f85846fc528",
   "metadata": {},
   "outputs": [
    {
     "name": "stdout",
     "output_type": "stream",
     "text": [
      "\n",
      "Salario Promedio:\n",
      "   departamento       salario\n",
      "0     Finanzas  67666.666667\n",
      "1           IT  66750.000000\n",
      "2    Marketing  48666.666667\n",
      "\n",
      "Edad Promedio:\n",
      "   departamento       edad\n",
      "0     Finanzas  36.000000\n",
      "1           IT  30.750000\n",
      "2    Marketing  25.333333\n",
      "\n",
      "Correlación Salario-Años:\n",
      "                    salario  años_experiencia\n",
      "salario           1.000000          0.961502\n",
      "años_experiencia  0.961502          1.000000\n",
      "\n",
      "Empleado con Mayor Razon Sueldo:\n",
      " nombre              9\n",
      "departamento        1\n",
      "salario             5\n",
      "años_experiencia    5\n",
      "edad                6\n",
      "exp-salario         7\n",
      "dtype: int64\n"
     ]
    }
   ],
   "source": [
    "# Cargamos nuestra informacion\n",
    "path = \"C:\\\\Users\\\\PC\\\\OneDrive\\\\Documentos\\\\CursoAnaliticaDatos\\\\MACHINE-LEARNING\\\\NIVEL2\\\\datos\\\\empleados.csv\"\n",
    "\n",
    "# Parceamos la fecha\n",
    "empleados = pd.read_csv(path)\n",
    "\n",
    "# Creo que podríamos sacar salario promedio, edad?\n",
    "salarioPromedio = empleados.groupby('departamento')['salario'].mean().reset_index()\n",
    "edadPromedio = empleados.groupby('departamento')['edad'].mean().reset_index()\n",
    "\n",
    "print(\"\\nSalario Promedio:\\n\", salarioPromedio)\n",
    "print(\"\\nEdad Promedio:\\n\", edadPromedio)\n",
    "\n",
    "# Correlación.\n",
    "correlacion = empleados[[\"salario\", \"años_experiencia\"]].corr()\n",
    "print(\"\\nCorrelación Salario-Años:\\n\", correlacion)\n",
    "\n",
    "# Quien gana más por experiencia-sueldo\n",
    "empleados['exp-salario'] = empleados['salario'] / empleados['años_experiencia']\n",
    "max_empl = empleados.idxmax()\n",
    "print(\"\\nEmpleado con Mayor Razon Sueldo:\\n\", max_empl)\n",
    "\n",
    "# Aún no sé usar matplot..."
   ]
  },
  {
   "cell_type": "markdown",
   "id": "24a9613e-daf7-484e-8354-fedf38589052",
   "metadata": {},
   "source": [
    "* Se pueden escoger las columnas.\n",
    "* `.describe()`:\n",
    "* `{correlacion:.2f}`, de esta manera podemos controlar la cantidad de digitos.\n",
    "* No nos olvidemos de usar `df.loc[df[\"salario_por_año\"].idxmax()]`, el loc es el clave para que vaya y busque la información."
   ]
  },
  {
   "cell_type": "code",
   "execution_count": 25,
   "id": "1b9baa65-e26c-4a7c-bf32-38ca0af6efe5",
   "metadata": {},
   "outputs": [
    {
     "name": "stdout",
     "output_type": "stream",
     "text": [
      "\n",
      "Estadísticas por departamento:\n",
      "             salario                                                         \\\n",
      "               count          mean           std      min      25%      50%   \n",
      "departamento                                                                  \n",
      "Finanzas         3.0  67666.666667   3055.050463  65000.0  66000.0  67000.0   \n",
      "IT               4.0  66750.000000  11354.147554  55000.0  58750.0  66000.0   \n",
      "Marketing        3.0  48666.666667   3055.050463  46000.0  47000.0  48000.0   \n",
      "\n",
      "                               años_experiencia        ...            edad  \\\n",
      "                  75%      max            count  mean  ...  75%  max count   \n",
      "departamento                                           ...                   \n",
      "Finanzas      69000.0  71000.0              3.0  5.00  ...  5.5  6.0   3.0   \n",
      "IT            74000.0  80000.0              4.0  4.75  ...  5.5  7.0   4.0   \n",
      "Marketing     50000.0  52000.0              3.0  2.00  ...  2.5  3.0   3.0   \n",
      "\n",
      "                                                                  \n",
      "                   mean       std   min   25%   50%    75%   max  \n",
      "departamento                                                      \n",
      "Finanzas      36.000000  3.605551  33.0  34.0  35.0  37.50  40.0  \n",
      "IT            30.750000  4.112988  26.0  29.0  30.5  32.25  36.0  \n",
      "Marketing     25.333333  2.516611  23.0  24.0  25.0  26.50  28.0  \n",
      "\n",
      "[3 rows x 24 columns]\n",
      "\n",
      "Correlación entre edad y salario: 0.87\n",
      "\n",
      "Empleado que gana más por año de experiencia:\n",
      "nombre             Jorge Vera\n",
      "departamento        Marketing\n",
      "salario_por_año       46000.0\n",
      "Name: 7, dtype: object\n"
     ]
    },
    {
     "data": {
      "image/png": "[encoded data removed]",
      "text/plain": [
       "<Figure size 800x500 with 1 Axes>"
      ]
     },
     "metadata": {},
     "output_type": "display_data"
    }
   ],
   "source": [
    "\"\"\"\n",
    "SOLUCION\n",
    "\"\"\"\n",
    "# Cargamos nuestra informacion\n",
    "path = \"C:\\\\Users\\\\PC\\\\OneDrive\\\\Documentos\\\\CursoAnaliticaDatos\\\\MACHINE-LEARNING\\\\NIVEL2\\\\datos\\\\empleados.csv\"\n",
    "\n",
    "# Parceamos la fecha\n",
    "df = pd.read_csv(path)\n",
    "\n",
    "# Estadísticas descriptivas por departamento\n",
    "print(\"\\nEstadísticas por departamento:\")\n",
    "print(df.groupby(\"departamento\")[[\"salario\", \"años_experiencia\", \"edad\"]].describe())\n",
    "\n",
    "# Correlación entre edad y salario\n",
    "correlacion = df[\"edad\"].corr(df[\"salario\"])\n",
    "print(f\"\\nCorrelación entre edad y salario: {correlacion:.2f}\")\n",
    "\n",
    "# ¿Quién gana más por año de experiencia?\n",
    "df[\"salario_por_año\"] = df[\"salario\"] / df[\"años_experiencia\"]\n",
    "mejor_ratio = df.loc[df[\"salario_por_año\"].idxmax()]\n",
    "print(\"\\nEmpleado que gana más por año de experiencia:\")\n",
    "print(mejor_ratio[[\"nombre\", \"departamento\", \"salario_por_año\"]])\n",
    "\n",
    "# Gráfica de distribución de sueldos por departamento\n",
    "plt.figure(figsize=(8, 5))\n",
    "sns.boxplot(data=df, x=\"departamento\", y=\"salario\", hue=\"departamento\", palette=\"Set2\", legend=False)\n",
    "plt.title(\"Distribución de sueldos por departamento\")\n",
    "plt.xlabel(\"Departamento\")\n",
    "plt.ylabel(\"Salario\")\n",
    "plt.grid(True)\n",
    "plt.tight_layout()\n",
    "plt.show()"
   ]
  },
  {
   "cell_type": "code",
   "execution_count": 21,
   "id": "1a889ff3-5cec-4426-98f2-b47564cced7c",
   "metadata": {},
   "outputs": [
    {
     "name": "stdout",
     "output_type": "stream",
     "text": [
      "\n",
      "Estadísticas por departamento:\n",
      "             salario                                                         \\\n",
      "               count          mean           std      min      25%      50%   \n",
      "departamento                                                                  \n",
      "Finanzas         3.0  67666.666667   3055.050463  65000.0  66000.0  67000.0   \n",
      "IT               4.0  66750.000000  11354.147554  55000.0  58750.0  66000.0   \n",
      "Marketing        3.0  48666.666667   3055.050463  46000.0  47000.0  48000.0   \n",
      "\n",
      "                               años_experiencia        ...            edad  \\\n",
      "                  75%      max            count  mean  ...  75%  max count   \n",
      "departamento                                           ...                   \n",
      "Finanzas      69000.0  71000.0              3.0  5.00  ...  5.5  6.0   3.0   \n",
      "IT            74000.0  80000.0              4.0  4.75  ...  5.5  7.0   4.0   \n",
      "Marketing     50000.0  52000.0              3.0  2.00  ...  2.5  3.0   3.0   \n",
      "\n",
      "                                                                  \n",
      "                   mean       std   min   25%   50%    75%   max  \n",
      "departamento                                                      \n",
      "Finanzas      36.000000  3.605551  33.0  34.0  35.0  37.50  40.0  \n",
      "IT            30.750000  4.112988  26.0  29.0  30.5  32.25  36.0  \n",
      "Marketing     25.333333  2.516611  23.0  24.0  25.0  26.50  28.0  \n",
      "\n",
      "[3 rows x 24 columns]\n"
     ]
    }
   ],
   "source": []
  },
  {
   "cell_type": "code",
   "execution_count": null,
   "id": "780e7c3e-b2a5-4d1f-9890-ff19978ecfe2",
   "metadata": {},
   "outputs": [],
   "source": []
  }
 ],
 "metadata": {
  "kernelspec": {
   "display_name": "Python 3 (ipykernel)",
   "language": "python",
   "name": "python3"
  },
  "language_info": {
   "codemirror_mode": {
    "name": "ipython",
    "version": 3
   },
   "file_extension": ".py",
   "mimetype": "text/x-python",
   "name": "python",
   "nbconvert_exporter": "python",
   "pygments_lexer": "ipython3",
   "version": "3.12.7"
  }
 },
 "nbformat": 4,
 "nbformat_minor": 5
}
