{
 "cells": [
  {
   "cell_type": "markdown",
   "id": "f32d8dcb-6ab3-40c8-a070-501ab5be5b52",
   "metadata": {},
   "source": [
    "# Cargar datos en DataFrame"
   ]
  },
  {
   "cell_type": "markdown",
   "id": "375f07af-cc14-4313-89d3-c9087a29c2a4",
   "metadata": {},
   "source": [
    "Cargamos nuestra librería de pandas y hacemos el import"
   ]
  },
  {
   "cell_type": "code",
   "execution_count": 2,
   "id": "f0f34827-e5c3-4c8f-a35c-af32d14346c1",
   "metadata": {},
   "outputs": [],
   "source": [
    "import pandas as pd"
   ]
  },
  {
   "cell_type": "markdown",
   "id": "5d5e007e-80da-4f5b-94c6-1c50bc6ae1e0",
   "metadata": {},
   "source": [
    "Usamos el siguiente metodo para cargar la información del csv\n",
    "\n",
    "***Nota***\n",
    "* Para poder calcular la ruta, usamos el mando de unix pwd.\n",
    "* El hacer esto así sin más, no establecera los indices, así que lo hará po default.\n",
    "* El que lo haga por default hará que tenmos una ponga indeces [0-N] y N Columnas."
   ]
  },
  {
   "cell_type": "code",
   "execution_count": 5,
   "id": "a587cead-b40d-4da1-888b-f52c515c5e5f",
   "metadata": {},
   "outputs": [
    {
     "data": {
      "text/html": [
       "<div>\n",
       "<style scoped>\n",
       "    .dataframe tbody tr th:only-of-type {\n",
       "        vertical-align: middle;\n",
       "    }\n",
       "\n",
       "    .dataframe tbody tr th {\n",
       "        vertical-align: top;\n",
       "    }\n",
       "\n",
       "    .dataframe thead th {\n",
       "        text-align: right;\n",
       "    }\n",
       "</style>\n",
       "<table border=\"1\" class=\"dataframe\">\n",
       "  <thead>\n",
       "    <tr style=\"text-align: right;\">\n",
       "      <th></th>\n",
       "      <th>Unnamed: 0</th>\n",
       "      <th>Trimestre 1</th>\n",
       "      <th>Trimestre 2</th>\n",
       "      <th>Trimestre 3</th>\n",
       "      <th>Trimestre 4</th>\n",
       "    </tr>\n",
       "  </thead>\n",
       "  <tbody>\n",
       "    <tr>\n",
       "      <th>0</th>\n",
       "      <td>Sucursal Norte</td>\n",
       "      <td>1001</td>\n",
       "      <td>1002</td>\n",
       "      <td>1003</td>\n",
       "      <td>1004</td>\n",
       "    </tr>\n",
       "    <tr>\n",
       "      <th>1</th>\n",
       "      <td>Sucursal Este</td>\n",
       "      <td>2001</td>\n",
       "      <td>2002</td>\n",
       "      <td>2003</td>\n",
       "      <td>2004</td>\n",
       "    </tr>\n",
       "    <tr>\n",
       "      <th>2</th>\n",
       "      <td>Sucursal Oeste</td>\n",
       "      <td>3001</td>\n",
       "      <td>3002</td>\n",
       "      <td>3003</td>\n",
       "      <td>3004</td>\n",
       "    </tr>\n",
       "    <tr>\n",
       "      <th>3</th>\n",
       "      <td>Sucursal Sur</td>\n",
       "      <td>4001</td>\n",
       "      <td>4002</td>\n",
       "      <td>4003</td>\n",
       "      <td>4004</td>\n",
       "    </tr>\n",
       "  </tbody>\n",
       "</table>\n",
       "</div>"
      ],
      "text/plain": [
       "       Unnamed: 0  Trimestre 1  Trimestre 2  Trimestre 3  Trimestre 4\n",
       "0  Sucursal Norte         1001         1002         1003         1004\n",
       "1   Sucursal Este         2001         2002         2003         2004\n",
       "2  Sucursal Oeste         3001         3002         3003         3004\n",
       "3    Sucursal Sur         4001         4002         4003         4004"
      ]
     },
     "execution_count": 5,
     "metadata": {},
     "output_type": "execute_result"
    }
   ],
   "source": [
    "path = \"C:\\\\Users\\\\PC\\\\OneDrive\\\\Documentos\\\\CursoAnaliticaDatos\\\\MACHINE-LEARNING\\\\NIVEL2\\\\datos\\\\ventas.csv\"\n",
    "ventas = pd.read_csv(path)\n",
    "ventas"
   ]
  },
  {
   "cell_type": "markdown",
   "id": "e1e836a0-f7af-472c-a95d-c342b39ae5e6",
   "metadata": {},
   "source": [
    "Para establecer la primera columna como indice tenemos que hacer lo siguiente:\n",
    "* Aquí ya no aparecerá los indices por default"
   ]
  },
  {
   "cell_type": "code",
   "execution_count": 6,
   "id": "3aa3b80c-8f83-4c81-8e15-39b01bd87054",
   "metadata": {},
   "outputs": [
    {
     "data": {
      "text/html": [
       "<div>\n",
       "<style scoped>\n",
       "    .dataframe tbody tr th:only-of-type {\n",
       "        vertical-align: middle;\n",
       "    }\n",
       "\n",
       "    .dataframe tbody tr th {\n",
       "        vertical-align: top;\n",
       "    }\n",
       "\n",
       "    .dataframe thead th {\n",
       "        text-align: right;\n",
       "    }\n",
       "</style>\n",
       "<table border=\"1\" class=\"dataframe\">\n",
       "  <thead>\n",
       "    <tr style=\"text-align: right;\">\n",
       "      <th></th>\n",
       "      <th>Trimestre 1</th>\n",
       "      <th>Trimestre 2</th>\n",
       "      <th>Trimestre 3</th>\n",
       "      <th>Trimestre 4</th>\n",
       "    </tr>\n",
       "  </thead>\n",
       "  <tbody>\n",
       "    <tr>\n",
       "      <th>Sucursal Norte</th>\n",
       "      <td>1001</td>\n",
       "      <td>1002</td>\n",
       "      <td>1003</td>\n",
       "      <td>1004</td>\n",
       "    </tr>\n",
       "    <tr>\n",
       "      <th>Sucursal Este</th>\n",
       "      <td>2001</td>\n",
       "      <td>2002</td>\n",
       "      <td>2003</td>\n",
       "      <td>2004</td>\n",
       "    </tr>\n",
       "    <tr>\n",
       "      <th>Sucursal Oeste</th>\n",
       "      <td>3001</td>\n",
       "      <td>3002</td>\n",
       "      <td>3003</td>\n",
       "      <td>3004</td>\n",
       "    </tr>\n",
       "    <tr>\n",
       "      <th>Sucursal Sur</th>\n",
       "      <td>4001</td>\n",
       "      <td>4002</td>\n",
       "      <td>4003</td>\n",
       "      <td>4004</td>\n",
       "    </tr>\n",
       "  </tbody>\n",
       "</table>\n",
       "</div>"
      ],
      "text/plain": [
       "                Trimestre 1  Trimestre 2  Trimestre 3  Trimestre 4\n",
       "Sucursal Norte         1001         1002         1003         1004\n",
       "Sucursal Este          2001         2002         2003         2004\n",
       "Sucursal Oeste         3001         3002         3003         3004\n",
       "Sucursal Sur           4001         4002         4003         4004"
      ]
     },
     "execution_count": 6,
     "metadata": {},
     "output_type": "execute_result"
    }
   ],
   "source": [
    "ventas = pd.read_csv(path, index_col = 0)\n",
    "ventas"
   ]
  },
  {
   "cell_type": "markdown",
   "id": "12fac961-df18-4012-8975-adac81e938e7",
   "metadata": {},
   "source": [
    "No solamente podríamos leer por archivos separados por csv, si no por cualquier tipo de separador\n",
    "* Por default, este incluye el ***\",\"***, pero nosotros podemos establecerlos.\n",
    "* Igualmente podemos decidir que columnas usar, necesitamos el ***usecols***.\n",
    "* Necesitamos también incluir la columna index dentro de la lista.\n",
    "* También se puede establecer la cantidad de filas que queremos usando el ***nrows***."
   ]
  },
  {
   "cell_type": "code",
   "execution_count": 14,
   "id": "c92cd67e-6457-40b7-b249-2f95331f9227",
   "metadata": {},
   "outputs": [
    {
     "data": {
      "text/html": [
       "<div>\n",
       "<style scoped>\n",
       "    .dataframe tbody tr th:only-of-type {\n",
       "        vertical-align: middle;\n",
       "    }\n",
       "\n",
       "    .dataframe tbody tr th {\n",
       "        vertical-align: top;\n",
       "    }\n",
       "\n",
       "    .dataframe thead th {\n",
       "        text-align: right;\n",
       "    }\n",
       "</style>\n",
       "<table border=\"1\" class=\"dataframe\">\n",
       "  <thead>\n",
       "    <tr style=\"text-align: right;\">\n",
       "      <th></th>\n",
       "      <th>Trimestre 1</th>\n",
       "      <th>Trimestre 4</th>\n",
       "    </tr>\n",
       "  </thead>\n",
       "  <tbody>\n",
       "    <tr>\n",
       "      <th>Sucursal Norte</th>\n",
       "      <td>1001</td>\n",
       "      <td>1004</td>\n",
       "    </tr>\n",
       "    <tr>\n",
       "      <th>Sucursal Este</th>\n",
       "      <td>2001</td>\n",
       "      <td>2004</td>\n",
       "    </tr>\n",
       "    <tr>\n",
       "      <th>Sucursal Oeste</th>\n",
       "      <td>3001</td>\n",
       "      <td>3004</td>\n",
       "    </tr>\n",
       "  </tbody>\n",
       "</table>\n",
       "</div>"
      ],
      "text/plain": [
       "                Trimestre 1  Trimestre 4\n",
       "Sucursal Norte         1001         1004\n",
       "Sucursal Este          2001         2004\n",
       "Sucursal Oeste         3001         3004"
      ]
     },
     "execution_count": 14,
     "metadata": {},
     "output_type": "execute_result"
    }
   ],
   "source": [
    "path2 = \"C:\\\\Users\\\\PC\\\\OneDrive\\\\Documentos\\\\CursoAnaliticaDatos\\\\MACHINE-LEARNING\\\\NIVEL2\\\\datos\\\\ventas_con_simbolo.csv\"\n",
    "ventas2 = pd.read_csv(path2,  index_col = 0, sep = \"$\", usecols = [0,1,4], nrows = 3)\n",
    "ventas2"
   ]
  },
  {
   "cell_type": "markdown",
   "id": "388a57dd-7850-4750-9abd-6865c546919b",
   "metadata": {},
   "source": [
    "Dentro de estos escenarios tambien podemos encontrarnos archivos sin encabezados\n",
    "* Si tratamos de hacerlo como lo estamos haciendo la primera fila será tomada como encabezados.\n",
    "* Tenemos que usar ***header=None***, para que le asigne valores por default."
   ]
  },
  {
   "cell_type": "code",
   "execution_count": 18,
   "id": "ad16f5c9-3469-43c5-b39d-8651be5000b3",
   "metadata": {},
   "outputs": [
    {
     "data": {
      "text/html": [
       "<div>\n",
       "<style scoped>\n",
       "    .dataframe tbody tr th:only-of-type {\n",
       "        vertical-align: middle;\n",
       "    }\n",
       "\n",
       "    .dataframe tbody tr th {\n",
       "        vertical-align: top;\n",
       "    }\n",
       "\n",
       "    .dataframe thead th {\n",
       "        text-align: right;\n",
       "    }\n",
       "</style>\n",
       "<table border=\"1\" class=\"dataframe\">\n",
       "  <thead>\n",
       "    <tr style=\"text-align: right;\">\n",
       "      <th></th>\n",
       "      <th>T1</th>\n",
       "      <th>T2</th>\n",
       "      <th>T3</th>\n",
       "      <th>T4</th>\n",
       "    </tr>\n",
       "  </thead>\n",
       "  <tbody>\n",
       "    <tr>\n",
       "      <th>Sucursal Norte</th>\n",
       "      <td>1001</td>\n",
       "      <td>1002</td>\n",
       "      <td>1003</td>\n",
       "      <td>1004</td>\n",
       "    </tr>\n",
       "    <tr>\n",
       "      <th>Sucursal Este</th>\n",
       "      <td>2001</td>\n",
       "      <td>2002</td>\n",
       "      <td>2003</td>\n",
       "      <td>2004</td>\n",
       "    </tr>\n",
       "    <tr>\n",
       "      <th>Sucursal Oeste</th>\n",
       "      <td>3001</td>\n",
       "      <td>3002</td>\n",
       "      <td>3003</td>\n",
       "      <td>3004</td>\n",
       "    </tr>\n",
       "    <tr>\n",
       "      <th>Sucursal Sur</th>\n",
       "      <td>4001</td>\n",
       "      <td>4002</td>\n",
       "      <td>4003</td>\n",
       "      <td>4004</td>\n",
       "    </tr>\n",
       "  </tbody>\n",
       "</table>\n",
       "</div>"
      ],
      "text/plain": [
       "                  T1    T2    T3    T4\n",
       "Sucursal Norte  1001  1002  1003  1004\n",
       "Sucursal Este   2001  2002  2003  2004\n",
       "Sucursal Oeste  3001  3002  3003  3004\n",
       "Sucursal Sur    4001  4002  4003  4004"
      ]
     },
     "execution_count": 18,
     "metadata": {},
     "output_type": "execute_result"
    }
   ],
   "source": [
    "path3 = \"C:\\\\Users\\\\PC\\\\OneDrive\\\\Documentos\\\\CursoAnaliticaDatos\\\\MACHINE-LEARNING\\\\NIVEL2\\\\datos\\\\ventas_sin_encabezado.csv\"\n",
    "ventas3 = pd.read_csv(path3,  index_col = 0, header=None, names=[\"T1\", \"T2\", \"T3\", \"T4\"])\n",
    "ventas3"
   ]
  },
  {
   "cell_type": "markdown",
   "id": "76b0962b-ba2a-44d5-89ec-f0a0424319e7",
   "metadata": {},
   "source": [
    "También es posible que nos toquen archivos con basura\n",
    "* Este archivo tiene un mensaje al inicio y al final, por lo que tendremos que no contemplar esto.\n",
    "* El ***skipfooter*** no está soportado en C, tenemos que agregar que es de python."
   ]
  },
  {
   "cell_type": "code",
   "execution_count": 21,
   "id": "73e1f7b1-4911-4106-9d69-970591f0bf9a",
   "metadata": {},
   "outputs": [
    {
     "data": {
      "text/html": [
       "<div>\n",
       "<style scoped>\n",
       "    .dataframe tbody tr th:only-of-type {\n",
       "        vertical-align: middle;\n",
       "    }\n",
       "\n",
       "    .dataframe tbody tr th {\n",
       "        vertical-align: top;\n",
       "    }\n",
       "\n",
       "    .dataframe thead th {\n",
       "        text-align: right;\n",
       "    }\n",
       "</style>\n",
       "<table border=\"1\" class=\"dataframe\">\n",
       "  <thead>\n",
       "    <tr style=\"text-align: right;\">\n",
       "      <th></th>\n",
       "      <th>Trimestre 1</th>\n",
       "      <th>Trimestre 2</th>\n",
       "      <th>Trimestre 3</th>\n",
       "      <th>Trimestre 4</th>\n",
       "    </tr>\n",
       "  </thead>\n",
       "  <tbody>\n",
       "    <tr>\n",
       "      <th>Sucursal Norte</th>\n",
       "      <td>1001</td>\n",
       "      <td>1002</td>\n",
       "      <td>1003</td>\n",
       "      <td>1004</td>\n",
       "    </tr>\n",
       "    <tr>\n",
       "      <th>Sucursal Este</th>\n",
       "      <td>2001</td>\n",
       "      <td>2002</td>\n",
       "      <td>2003</td>\n",
       "      <td>2004</td>\n",
       "    </tr>\n",
       "    <tr>\n",
       "      <th>Sucursal Oeste</th>\n",
       "      <td>3001</td>\n",
       "      <td>3002</td>\n",
       "      <td>3003</td>\n",
       "      <td>3004</td>\n",
       "    </tr>\n",
       "    <tr>\n",
       "      <th>Sucursal Sur</th>\n",
       "      <td>4001</td>\n",
       "      <td>4002</td>\n",
       "      <td>4003</td>\n",
       "      <td>4004</td>\n",
       "    </tr>\n",
       "  </tbody>\n",
       "</table>\n",
       "</div>"
      ],
      "text/plain": [
       "                Trimestre 1  Trimestre 2  Trimestre 3  Trimestre 4\n",
       "Sucursal Norte         1001         1002         1003         1004\n",
       "Sucursal Este          2001         2002         2003         2004\n",
       "Sucursal Oeste         3001         3002         3003         3004\n",
       "Sucursal Sur           4001         4002         4003         4004"
      ]
     },
     "execution_count": 21,
     "metadata": {},
     "output_type": "execute_result"
    }
   ],
   "source": [
    "path4 = \"C:\\\\Users\\\\PC\\\\OneDrive\\\\Documentos\\\\CursoAnaliticaDatos\\\\MACHINE-LEARNING\\\\NIVEL2\\\\datos\\\\ventas_con_basura.csv\"\n",
    "ventas4 = pd.read_csv(path4,  index_col = 0, skiprows=1, skipfooter = 1, engine='python')\n",
    "ventas4"
   ]
  },
  {
   "cell_type": "markdown",
   "id": "ae1bf3f2-ca9e-4e8d-b084-37a3da53a42d",
   "metadata": {},
   "source": [
    "### LEER UN ARCHIVO EXCEL"
   ]
  },
  {
   "cell_type": "markdown",
   "id": "db276b26-e796-440f-adc9-4e69418ab0d2",
   "metadata": {},
   "source": [
    "Un archivo de excel no tiene comas que separen los valores, inclusive tiene varias hojas de calculo,\n",
    "mensajes, colores, etc.\n",
    "* Para este caso este archivo tiene 2 hojas de calculos\n",
    "* Cada hoja tiene coles y titulos\n",
    "\n",
    "***Notas***\n",
    "* Tenemos que usar un nuevo método, el ***read_excel***.\n",
    "* En este caso la primera fila tiene un mensaje, el cual no ocupamos, por eso damos skiprow.\n",
    "* Si no espeficiamos, esto solo nos cargará la primera pestaña u hoja de calculo.\n",
    "* Para que cargue todas usamos ***sheet_name=None***, pero no trae un diccionario de series, donde el\n",
    "  el nombre es el key, y el contenido es una dataframe.\n",
    "* Es decir, esto nos regresa un diccionario de dataframes."
   ]
  },
  {
   "cell_type": "code",
   "execution_count": 24,
   "id": "7f57a61e-677c-4dc1-859e-1bc3fbf968bf",
   "metadata": {},
   "outputs": [
    {
     "data": {
      "text/plain": [
       "{'2020':                 Trimestre 1  Trimestre 2  Trimestre 3  Trimestre 4\n",
       " Sucursal Norte         1001         1002         1003         1004\n",
       " Sucursal Este          2001         2002         2003         2004\n",
       " Sucursal Oeste         3001         3002         3003         3004\n",
       " Sucursal Sur           4001         4002         4003         4004,\n",
       " '2021':                 Trimestre 1  Trimestre 2  Trimestre 3  Trimestre 4\n",
       " Sucursal Norte         2001         2002         2003         2004\n",
       " Sucursal Este          4001         4002         4003         4004\n",
       " Sucursal Oeste         6001         6002         6003         6004\n",
       " Sucursal Sur           8001         8002         8003         8004}"
      ]
     },
     "execution_count": 24,
     "metadata": {},
     "output_type": "execute_result"
    }
   ],
   "source": [
    "path5 = \"C:\\\\Users\\\\PC\\\\OneDrive\\\\Documentos\\\\CursoAnaliticaDatos\\\\MACHINE-LEARNING\\\\NIVEL2\\\\datos\\\\ventas_anuales.xlsx\"\n",
    "ventas5 = pd.read_excel(path5,  index_col = 0, skiprows=1, sheet_name=None)\n",
    "ventas5"
   ]
  },
  {
   "cell_type": "markdown",
   "id": "726600dd-304d-4990-aa18-273ab4cfdd10",
   "metadata": {},
   "source": [
    "Accedemos a un dataframe del diccionario."
   ]
  },
  {
   "cell_type": "code",
   "execution_count": 26,
   "id": "5d2e6c58-0622-4a74-9d40-a0d75f5da244",
   "metadata": {},
   "outputs": [
    {
     "data": {
      "text/html": [
       "<div>\n",
       "<style scoped>\n",
       "    .dataframe tbody tr th:only-of-type {\n",
       "        vertical-align: middle;\n",
       "    }\n",
       "\n",
       "    .dataframe tbody tr th {\n",
       "        vertical-align: top;\n",
       "    }\n",
       "\n",
       "    .dataframe thead th {\n",
       "        text-align: right;\n",
       "    }\n",
       "</style>\n",
       "<table border=\"1\" class=\"dataframe\">\n",
       "  <thead>\n",
       "    <tr style=\"text-align: right;\">\n",
       "      <th></th>\n",
       "      <th>Trimestre 1</th>\n",
       "      <th>Trimestre 2</th>\n",
       "      <th>Trimestre 3</th>\n",
       "      <th>Trimestre 4</th>\n",
       "    </tr>\n",
       "  </thead>\n",
       "  <tbody>\n",
       "    <tr>\n",
       "      <th>Sucursal Norte</th>\n",
       "      <td>2001</td>\n",
       "      <td>2002</td>\n",
       "      <td>2003</td>\n",
       "      <td>2004</td>\n",
       "    </tr>\n",
       "    <tr>\n",
       "      <th>Sucursal Este</th>\n",
       "      <td>4001</td>\n",
       "      <td>4002</td>\n",
       "      <td>4003</td>\n",
       "      <td>4004</td>\n",
       "    </tr>\n",
       "    <tr>\n",
       "      <th>Sucursal Oeste</th>\n",
       "      <td>6001</td>\n",
       "      <td>6002</td>\n",
       "      <td>6003</td>\n",
       "      <td>6004</td>\n",
       "    </tr>\n",
       "    <tr>\n",
       "      <th>Sucursal Sur</th>\n",
       "      <td>8001</td>\n",
       "      <td>8002</td>\n",
       "      <td>8003</td>\n",
       "      <td>8004</td>\n",
       "    </tr>\n",
       "  </tbody>\n",
       "</table>\n",
       "</div>"
      ],
      "text/plain": [
       "                Trimestre 1  Trimestre 2  Trimestre 3  Trimestre 4\n",
       "Sucursal Norte         2001         2002         2003         2004\n",
       "Sucursal Este          4001         4002         4003         4004\n",
       "Sucursal Oeste         6001         6002         6003         6004\n",
       "Sucursal Sur           8001         8002         8003         8004"
      ]
     },
     "execution_count": 26,
     "metadata": {},
     "output_type": "execute_result"
    }
   ],
   "source": [
    "ventas5[\"2021\"]"
   ]
  }
 ],
 "metadata": {
  "kernelspec": {
   "display_name": "Python 3 (ipykernel)",
   "language": "python",
   "name": "python3"
  },
  "language_info": {
   "codemirror_mode": {
    "name": "ipython",
    "version": 3
   },
   "file_extension": ".py",
   "mimetype": "text/x-python",
   "name": "python",
   "nbconvert_exporter": "python",
   "pygments_lexer": "ipython3",
   "version": "3.12.7"
  }
 },
 "nbformat": 4,
 "nbformat_minor": 5
}
